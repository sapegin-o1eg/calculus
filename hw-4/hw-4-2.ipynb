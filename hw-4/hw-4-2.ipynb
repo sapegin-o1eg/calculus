{
 "cells": [
  {
   "cell_type": "code",
   "execution_count": 1,
   "metadata": {},
   "outputs": [],
   "source": [
    "import numpy as np"
   ]
  },
  {
   "cell_type": "markdown",
   "metadata": {},
   "source": [
    "## “Производная функции нескольких переменных. Часть 2"
   ]
  },
  {
   "cell_type": "markdown",
   "metadata": {},
   "source": [
    "### 1. Исследовать функцию на условный экстремум"
   ]
  },
  {
   "cell_type": "markdown",
   "metadata": {},
   "source": [
    "### $u=3-8x+6y$, если $x^{2} +y^{2} =36$"
   ]
  },
  {
   "cell_type": "markdown",
   "metadata": {},
   "source": [
    "**Необходимое условие**"
   ]
  },
  {
   "cell_type": "markdown",
   "metadata": {},
   "source": [
    "\\begin{gather*}\n",
    "L^{\\prime }_{x} =\\left( 3-8x+6y+\\lambda \\cdot \\left( x^{2} +y^{2} -36\\right)\\right)^{\\prime }_{x} =2x\\lambda -8\\\\\n",
    "L^{\\prime }_{y} =\\left( 3-8x+6y+\\lambda \\cdot \\left( x^{2} +y^{2} -36\\right)\\right)^{\\prime }_{y} =2y\\lambda +6\\\\\n",
    "\\phi =x^{2} +y^{2} -36\n",
    "\\end{gather*}"
   ]
  },
  {
   "cell_type": "markdown",
   "metadata": {},
   "source": [
    "\\begin{gather*}\n",
    "L=3-8x+6y+\\lambda \\cdot \\left( x^{2} +y^{2} -36\\right)\n",
    "\\end{gather*}"
   ]
  },
  {
   "cell_type": "markdown",
   "metadata": {},
   "source": [
    "\\begin{gather*}\n",
    "\\begin{cases}\n",
    "L^{\\prime }_{x} =0\\\\\n",
    "L^{\\prime }_{y} =0\\\\\n",
    "\\phi =0\n",
    "\\end{cases} \\Rightarrow \\begin{cases}\n",
    "2x\\lambda -8=0\\\\\n",
    "2y\\lambda +6=0\\\\\n",
    "x^{2} +y^{2} -36=0\n",
    "\\end{cases}\n",
    "\\end{gather*}"
   ]
  },
  {
   "cell_type": "markdown",
   "metadata": {},
   "source": [
    "**Стационарные точки:**"
   ]
  },
  {
   "cell_type": "markdown",
   "metadata": {},
   "source": [
    "\\begin{gather*}\n",
    "2x\\lambda -8=0\\\\\n",
    "2x\\lambda =8\\\\\n",
    "x=\\frac{8}{2\\lambda } =\\frac{4}{\\lambda }\\\\\n",
    "\\\\\n",
    "2y\\lambda +6=0\\\\\n",
    "2y\\lambda =-6\\\\\n",
    "y=-\\frac{6}{2\\lambda } =-\\frac{3}{\\lambda }\\\\\n",
    "\\end{gather*}"
   ]
  },
  {
   "cell_type": "markdown",
   "metadata": {},
   "source": [
    "\\begin{gather*}\n",
    "\\left(\\frac{4}{\\lambda }\\right)^{2} +\\left( -\\frac{3}{\\lambda }\\right)^{2} -36=0\\\\\n",
    "\\frac{16+9}{\\lambda ^{2}} -36=0\\\\\n",
    "\\frac{25}{\\lambda ^{2}} =36\\\\\n",
    "\\lambda =\\pm \\sqrt{\\frac{25}{36}} =\\pm \\frac{5}{6}\n",
    "\\end{gather*}"
   ]
  },
  {
   "cell_type": "markdown",
   "metadata": {},
   "source": [
    "\\begin{gather*}\n",
    "\\lambda =-\\frac{5}{6}\\\\\n",
    "\\begin{cases}\n",
    "x=\\frac{4}{\\lambda }\\\\\n",
    "y=-\\frac{3}{\\lambda }\n",
    "\\end{cases} \\Rightarrow \\begin{cases}\n",
    "x=\\frac{4}{-\\frac{5}{6}} =4\\cdot -\\frac{6}{5} =-\\frac{24}{5}\\\\\n",
    "y=-\\frac{3}{-\\frac{5}{6}} =-3\\cdot -\\frac{5}{6} =\\frac{18}{5}\n",
    "\\end{cases}\\\\\n",
    "M_{1}\\left( -\\frac{24}{5} ;\\ \\frac{18}{5}\\right)\n",
    "\\end{gather*}"
   ]
  },
  {
   "cell_type": "markdown",
   "metadata": {},
   "source": [
    "\\begin{gather*}\n",
    "\\lambda =\\frac{5}{6}\\\\\n",
    "\\begin{cases}\n",
    "x=\\frac{4}{\\lambda }\\\\\n",
    "y=-\\frac{3}{\\lambda }\n",
    "\\end{cases} \\Rightarrow \\begin{cases}\n",
    "x=\\frac{4}{\\frac{5}{6}} =4\\cdot \\frac{6}{5} =\\frac{24}{5}\\\\\n",
    "y=-\\frac{3}{\\frac{5}{6}} =-3\\cdot \\frac{5}{6} =-\\frac{18}{5}\n",
    "\\end{cases}\\\\\n",
    "M_{2}\\left(\\frac{24}{5} ;\\ -\\frac{18}{5}\\right)\n",
    "\\end{gather*}"
   ]
  },
  {
   "cell_type": "markdown",
   "metadata": {},
   "source": [
    "**Достаточное условие**"
   ]
  },
  {
   "cell_type": "markdown",
   "metadata": {},
   "source": [
    "\\begin{gather*}\n",
    "\\phi ^{\\prime }_{x} =\\left( x^{2} +y^{2} -36\\right)^{\\prime }_{x} =2x\\\\\n",
    "\\phi ^{\\prime }_{y} =\\left( x^{2} +y^{2} -36\\right)^{\\prime }_{y} =2y\\\\\n",
    "\\\\\n",
    "L^{''}_{xx} =( 2x\\lambda -8)^{\\prime }_{x} =2\\lambda \\\\\n",
    "L^{''}_{yy} =( 2y\\lambda +6)^{\\prime }_{y} =2\\lambda \\\\\n",
    "L^{''}_{xy} =( 2x\\lambda -8)^{\\prime }_{y} =0\\\\\n",
    "L^{''}_{yx} =( 2y\\lambda +6)^{\\prime }_{x} =0\\\\\n",
    "\\end{gather*}"
   ]
  },
  {
   "cell_type": "markdown",
   "metadata": {},
   "source": [
    "\\begin{gather*}\n",
    "A=\\begin{bmatrix}\n",
    "0 & \\phi ^{\\prime }_{x} & \\phi ^{\\prime }_{y}\\\\\n",
    "\\phi ^{\\prime }_{x} & L^{''}_{xx} & L^{''}_{xy}\\\\\n",
    "\\phi ^{\\prime }_{y} & L^{''}_{yx} & L^{''}_{yy}\n",
    "\\end{bmatrix} =\\begin{bmatrix}\n",
    "0 & 2x & 2y\\\\\n",
    "2x & 2\\lambda  & 0\\\\\n",
    "2y & 0 & 2\\lambda \n",
    "\\end{bmatrix} =8\\cdot \\begin{bmatrix}\n",
    "0 & x & y\\\\\n",
    "x & \\lambda  & 0\\\\\n",
    "y & 0 & \\lambda \n",
    "\\end{bmatrix}\n",
    "\\end{gather*}"
   ]
  },
  {
   "cell_type": "markdown",
   "metadata": {},
   "source": [
    "\\begin{gather*}\n",
    "\\lambda =-\\frac{5}{6} ;\\ M_{1}\\left( -\\frac{24}{5} ;\\ \\frac{18}{5}\\right)\\\\\n",
    "A_{1} =8\\cdot \\begin{bmatrix}\n",
    "0 & -\\frac{24}{5} & \\frac{18}{5}\\\\\n",
    "-\\frac{24}{5} & -\\frac{5}{6} & 0\\\\\n",
    "\\frac{18}{5} & 0 & -\\frac{5}{6}\n",
    "\\end{bmatrix}\\\\\n",
    "| A_{1}| =8\\cdot \\left(\\frac{24}{5} \\cdot \\begin{bmatrix}\n",
    "-\\frac{24}{5} & 0\\\\\n",
    "\\frac{18}{5} & -\\frac{5}{6}\n",
    "\\end{bmatrix} +\\frac{18}{5} \\cdot \\begin{bmatrix}\n",
    "-\\frac{24}{5} & -\\frac{5}{6}\\\\\n",
    "\\frac{18}{5} & 0\n",
    "\\end{bmatrix}\\right) =\\\\\n",
    "=8\\cdot \\left(\\frac{24}{5} \\cdot \\left( -\\frac{24}{5} \\cdot \\left( -\\frac{5}{6}\\right)\\right) +\\frac{18}{5} \\cdot \\left( -\\frac{24}{5} \\cdot 0-\\left( -\\frac{5}{6} \\cdot \\frac{18}{5}\\right)\\right)\\right) =\\\\\n",
    "=8\\cdot \\left(\\frac{96}{5} +\\frac{54}{5}\\right) =8\\cdot \\frac{150}{5} =8\\cdot 30=240\n",
    "\\end{gather*}"
   ]
  },
  {
   "cell_type": "markdown",
   "metadata": {},
   "source": [
    "\\begin{gather*}\n",
    "\\lambda =\\frac{5}{6} ;\\ M_{2}\\left(\\frac{24}{5} ;\\ -\\frac{18}{5}\\right)\\\\\n",
    "A_{2} =8\\cdot \\begin{bmatrix}\n",
    "0 & \\frac{24}{5} & -\\frac{18}{5}\\\\\n",
    "\\frac{24}{5} & \\frac{5}{6} & 0\\\\\n",
    "-\\frac{18}{5} & 0 & \\frac{5}{6}\n",
    "\\end{bmatrix}\\\\\n",
    "| A_{2}| =8\\cdot \\left( -\\frac{24}{5} \\cdot \\begin{bmatrix}\n",
    "\\frac{24}{5} & 0\\\\\n",
    "-\\frac{18}{5} & \\frac{5}{6}\n",
    "\\end{bmatrix} -\\frac{18}{5} \\cdot \\begin{bmatrix}\n",
    "\\frac{24}{5} & \\frac{5}{6}\\\\\n",
    "-\\frac{18}{5} & 0\n",
    "\\end{bmatrix}\\right) =\\\\\n",
    "=8\\cdot \\left( -\\frac{24}{5} \\cdot \\left(\\frac{24}{5} \\cdot \\frac{5}{6}\\right) -\\frac{18}{5} \\cdot \\left(\\frac{24}{5} \\cdot 0-\\left( -\\frac{18}{5} \\cdot \\frac{5}{6}\\right)\\right)\\right) =\\\\\n",
    "=8\\cdot \\left( -\\frac{96}{5} -\\frac{54}{5}\\right) =8\\cdot \\left( -\\frac{150}{5}\\right) =-8\\cdot 30=-240\n",
    "\\end{gather*}"
   ]
  },
  {
   "cell_type": "markdown",
   "metadata": {},
   "source": [
    "$| A_{1}| =240\\rightarrow | A_{1}|  >0\\rightarrow$ функция $u$ имеет максимум в точке $M_{1}\\left( -\\frac{24}{5} ;\\ \\frac{18}{5}\\right)$\n",
    "\n",
    "\n",
    "$| A_{2}| =-240\\rightarrow | A_{1}| < 0\\ \\rightarrow$ функция $u$ имеет нимум в точке $M_{2}\\left(\\frac{24}{5} ;\\ -\\frac{18}{5}\\right)$\n"
   ]
  },
  {
   "cell_type": "markdown",
   "metadata": {},
   "source": [
    "\n",
    "\\begin{gather*}\n",
    "u_{max} =u\\left( -\\frac{24}{5} ;\\ \\frac{18}{5}\\right) =3-8\\cdot \\left( -\\frac{24}{5}\\right) +6\\cdot \\frac{18}{5} =\\\\\n",
    "=3+\\frac{192}{5} +\\frac{108}{5} =63\\\\\n",
    "u_{min} =u\\left(\\frac{24}{5} ;\\ -\\frac{18}{5}\\right) =3-8\\cdot \\frac{24}{5} +6\\cdot \\left( -\\frac{18}{5}\\right) =\\\\\n",
    "=3-\\frac{192}{5} -\\frac{108}{5} =-57\\\\\n",
    "\\end{gather*}\n"
   ]
  },
  {
   "cell_type": "markdown",
   "metadata": {},
   "source": [
    "### *Ответ:*"
   ]
  },
  {
   "cell_type": "markdown",
   "metadata": {},
   "source": [
    "### **при условии** $x^{2} +y^{2} =36$"
   ]
  },
  {
   "cell_type": "markdown",
   "metadata": {},
   "source": [
    "### $u_{max} =u\\left( -\\frac{24}{5} ;\\ \\frac{18}{5}\\right) =63$"
   ]
  },
  {
   "cell_type": "markdown",
   "metadata": {},
   "source": [
    "### $u_{min} =u\\left(\\frac{24}{5} ;\\ -\\frac{18}{5}\\right) =-57$"
   ]
  },
  {
   "cell_type": "markdown",
   "metadata": {},
   "source": [
    "### 2. Исследовать функцию на условный экстремум"
   ]
  },
  {
   "cell_type": "markdown",
   "metadata": {},
   "source": [
    "### $u=2x^{2} +12xy+32y^{2} +15$, если $x^{2} +16y^{2} =64$"
   ]
  },
  {
   "cell_type": "markdown",
   "metadata": {},
   "source": [
    "**Необходимое условие**"
   ]
  },
  {
   "cell_type": "markdown",
   "metadata": {},
   "source": [
    "\\begin{gather*}\n",
    "L^{\\prime }_{x} =\\left( 2x^{2} +12xy+32y^{2} +15+\\lambda \\cdot \\left( x^{2} +16y^{2} -64\\right)\\right)^{\\prime }_{x} =4x+12y+2x\\lambda \\\\\n",
    "L^{\\prime }_{y} =\\left( 2x^{2} +12xy+32y^{2} +15+\\lambda \\cdot \\left( x^{2} +16y^{2} -64\\right)\\right)^{\\prime }_{y} =12x+64y+32y\\lambda \\\\\n",
    "\\phi =x^{2} +16y^{2} -64\n",
    "\\end{gather*}"
   ]
  },
  {
   "cell_type": "markdown",
   "metadata": {},
   "source": [
    "\\begin{gather*}\n",
    "L=2x^{2} +12xy+32y^{2} +15+\\lambda \\cdot \\left( x^{2} +16y^{2} -64\\right)\n",
    "\\end{gather*}"
   ]
  },
  {
   "cell_type": "markdown",
   "metadata": {},
   "source": [
    "\\begin{gather*}\n",
    "\\begin{cases}\n",
    "L^{\\prime }_{x} =0\\\\\n",
    "L^{\\prime }_{y} =0\\\\\n",
    "\\phi =0\n",
    "\\end{cases} \\Rightarrow \\begin{cases}\n",
    "4x+12y+2x\\lambda =0\\\\\n",
    "12x+64y+32y\\lambda =0\\\\\n",
    "x^{2} +16y^{2} -64=0\n",
    "\\end{cases}\n",
    "\\end{gather*}"
   ]
  },
  {
   "cell_type": "markdown",
   "metadata": {},
   "source": [
    "**Стационарные точки:**"
   ]
  },
  {
   "cell_type": "markdown",
   "metadata": {},
   "source": [
    "\\begin{gather*}\n",
    "\\frac{-4x-12y}{2x} =\\frac{-16y-3x}{8y}\\\\\n",
    "\\frac{4y( -4x-12y)}{4xy} =\\frac{x( -16y-3x)}{8xy}\\\\\n",
    "\\frac{-16xy-48y^{2}}{8xy} -\\frac{-16xy-3x^{2}}{8xy} =0\\\\\n",
    "\\frac{-16xy-48y^{2} +16xy+3x^{2}}{8xy} =0\\\\\n",
    "-48y^{2} +3x^{2} =0\\\\\n",
    "\\\\\n",
    "\\begin{cases}\n",
    "x^{2} +16y^{2} -64=0\\\\\n",
    "3x^{2} -48y^{2} =0\n",
    "\\end{cases}\\\\\n",
    "\\\\\n",
    "x^{2} +16y^{2} -64=0\\\\\n",
    "x^{2} =64-16y^{2}\\\\\n",
    "x=\\pm \\sqrt{64-16y^{2}}\\\\\n",
    "\\end{gather*}"
   ]
  },
  {
   "cell_type": "markdown",
   "metadata": {},
   "source": [
    "\\begin{gather*}\n",
    "3x^{2} -48y^{2} =0\\\\\n",
    "3\\left(\\sqrt{64-16y^{2}}\\right)^{2} -48y^{2} =0\\\\\n",
    "3\\left( 64-16y^{2}\\right) -48y^{2} =0\\\\\n",
    "192-48y^{2} -48y^{2} =0\\\\\n",
    "192-96y^{2} =0\\\\\n",
    "96y^{2} =192\\\\\n",
    "y^{2} =\\frac{192}{96} =2\\\\\n",
    "y=\\pm \\sqrt{2}\n",
    "\\end{gather*}"
   ]
  },
  {
   "cell_type": "markdown",
   "metadata": {},
   "source": [
    "\\begin{gather*}\n",
    "3x^{2} -48y^{2} =0\\\\\n",
    "3x^{2} -48\\left(\\sqrt{2}\\right)^{2} =0\\\\\n",
    "3x^{2} -48\\cdot 2=0\\\\\n",
    "3x^{2} -96=0\\\\\n",
    "x^{2} =\\frac{96}{3} =32\\\\\n",
    "x=\\pm \\sqrt{32} =\\pm \\sqrt{16\\cdot 2} =\\pm 4\\sqrt{2}\\\\\n",
    "x=\\pm 4\\sqrt{2}\n",
    "\\end{gather*}"
   ]
  },
  {
   "cell_type": "markdown",
   "metadata": {},
   "source": [
    "\\begin{gather*}\n",
    "\\lambda =\\frac{-4x-12y}{2x} =\\frac{-4\\cdot 4\\sqrt{2} -12\\cdot \\sqrt{2}}{2\\cdot 4\\sqrt{2}} =\\frac{-4-3}{2} =-\\frac{7}{2}\\\\\n",
    "\\\\\n",
    "\\lambda =\\frac{-4x-12y}{2x} =\\frac{-4\\cdot \\left( -4\\sqrt{2}\\right) -12\\cdot \\left( -\\sqrt{2}\\right)}{2\\cdot \\left( -4\\sqrt{2}\\right)} =\\frac{4+3}{-2} =-\\frac{7}{2}\\\\\n",
    "\\end{gather*}"
   ]
  },
  {
   "cell_type": "markdown",
   "metadata": {},
   "source": [
    "\\begin{gather*}\n",
    "\\lambda =\\frac{-4x-12y}{2x} =\\frac{-4\\cdot \\left( -4\\sqrt{2}\\right) -12\\cdot \\sqrt{2}}{2\\cdot \\left( -4\\sqrt{2}\\right)} =\\frac{-4+3}{2} =-\\frac{1}{2}\\\\\n",
    "\\\\\n",
    "\\lambda =\\frac{-4x-12y}{2x} =\\frac{-4\\cdot 4\\sqrt{2} -12\\cdot \\left( -\\sqrt{2}\\right)}{2\\cdot 4\\sqrt{2}} =\\frac{-4+3}{2} =-\\frac{1}{2}\\\\\n",
    "\\end{gather*}"
   ]
  },
  {
   "cell_type": "markdown",
   "metadata": {},
   "source": [
    "\\begin{gather*}\n",
    "\\lambda_{1} =-\\frac{7}{2}\\\\\n",
    "M_{1}\\left( 4\\sqrt{2} ;\\sqrt{2}\\right)\\\\\n",
    "M_{2}\\left( -4\\sqrt{2} ;-\\sqrt{2}\\right)\\\\\n",
    "M_{3}\\left( -4\\sqrt{2} ;\\sqrt{2}\\right)\\\\\n",
    "M_{4}\\left( 4\\sqrt{2} ;-\\sqrt{2}\\right)\n",
    "\\end{gather*}"
   ]
  },
  {
   "cell_type": "markdown",
   "metadata": {},
   "source": [
    "\\begin{gather*}\n",
    "\\lambda_{2} =-\\frac{1}{2}\\\\\n",
    "M_{5}\\left( 4\\sqrt{2} ;\\sqrt{2}\\right)\\\\\n",
    "M_{6}\\left( -4\\sqrt{2} ;-\\sqrt{2}\\right)\\\\\n",
    "M_{7}\\left( -4\\sqrt{2} ;\\sqrt{2}\\right)\\\\\n",
    "M_{8}\\left( 4\\sqrt{2} ;-\\sqrt{2}\\right)\n",
    "\\end{gather*}"
   ]
  },
  {
   "cell_type": "markdown",
   "metadata": {},
   "source": [
    "**Достаточное условие**"
   ]
  },
  {
   "cell_type": "markdown",
   "metadata": {},
   "source": [
    "\\begin{gather*}\n",
    "\\phi ^{\\prime }_{x} =\\left( x^{2} +16y^{2} -64\\right)^{\\prime }_{x} =2x\\\\\n",
    "\\phi ^{\\prime }_{y} =\\left( x^{2} +16y^{2} -64\\right)^{\\prime }_{y} =32y\\\\\n",
    "\\\\\n",
    "L^{''}_{xx} =( 4x+12y+2x\\lambda )^{\\prime }_{x} =4+2\\lambda \\\\\n",
    "L^{''}_{yy} =( 12x+64y+32y\\lambda )^{\\prime }_{y} =64+32\\lambda \\\\\n",
    "L^{''}_{xy} =( 4x+12y+2x\\lambda )^{\\prime }_{y} =12\\\\\n",
    "L^{''}_{yx} =( 12x+64y+32y\\lambda )^{\\prime }_{x} =12\\\\\n",
    "\\end{gather*}"
   ]
  },
  {
   "cell_type": "markdown",
   "metadata": {},
   "source": [
    "\\begin{gather*}\n",
    "A=\\begin{bmatrix}\n",
    "0 & \\phi ^{\\prime }_{x} & \\phi ^{\\prime }_{y}\\\\\n",
    "\\phi ^{\\prime }_{x} & L^{''}_{xx} & L^{''}_{xy}\\\\\n",
    "\\phi ^{\\prime }_{y} & L^{''}_{yx} & L^{''}_{yy}\n",
    "\\end{bmatrix} =\\begin{bmatrix}\n",
    "0 & 2x & 32y\\\\\n",
    "2x & 4+2\\lambda  & 12\\\\\n",
    "32y & 12 & 64+32\\lambda \n",
    "\\end{bmatrix} =2\\cdot \\begin{bmatrix}\n",
    "0 & x & 16y\\\\\n",
    "x & 2+\\lambda  & 6\\\\\n",
    "16y & 6 & 32+16\\lambda \n",
    "\\end{bmatrix}\n",
    "\\end{gather*}"
   ]
  },
  {
   "cell_type": "markdown",
   "metadata": {},
   "source": [
    "\\begin{gather*}\n",
    "\\lambda_{1} =-\\frac{7}{2} ;\\ M_{1}\\left( 4\\sqrt{2} ;\\sqrt{2}\\right)\\\\\n",
    "A_{1} =2\\cdot \\begin{bmatrix}\n",
    "0 & 4\\sqrt{2} & 16\\sqrt{2}\\\\\n",
    "4\\sqrt{2} & 2-\\frac{7}{2} & 6\\\\\n",
    "16\\sqrt{2} & 6 & 32-16\\cdot \\frac{7}{2}\n",
    "\\end{bmatrix}\n",
    "\\end{gather*}"
   ]
  },
  {
   "cell_type": "code",
   "execution_count": 2,
   "metadata": {},
   "outputs": [
    {
     "data": {
      "text/plain": [
       "array([[  0.       ,  11.3137085,  45.254834 ],\n",
       "       [ 11.3137085,  -3.       ,  12.       ],\n",
       "       [ 45.254834 ,  12.       , -48.       ]])"
      ]
     },
     "execution_count": 2,
     "metadata": {},
     "output_type": "execute_result"
    }
   ],
   "source": [
    "A1 = 2 * np.array([[0, 4 * np.sqrt(2), 16 * np.sqrt(2)],\n",
    "                   [4 * np.sqrt(2), 2 - 7 / 2, 6],\n",
    "                   [16 * np.sqrt(2), 6, 32 - 16 * 7 / 2]])\n",
    "A1"
   ]
  },
  {
   "cell_type": "code",
   "execution_count": 3,
   "metadata": {
    "scrolled": true
   },
   "outputs": [
    {
     "data": {
      "text/plain": [
       "24576.000000000015"
      ]
     },
     "execution_count": 3,
     "metadata": {},
     "output_type": "execute_result"
    }
   ],
   "source": [
    "np.linalg.det(A1)"
   ]
  },
  {
   "cell_type": "markdown",
   "metadata": {},
   "source": [
    "\\begin{gather*}\n",
    "| A_{1}| =24576\n",
    "\\end{gather*}"
   ]
  },
  {
   "cell_type": "markdown",
   "metadata": {},
   "source": [
    "\\begin{gather*}\n",
    "\\lambda_{1} =-\\frac{7}{2} ;\\ M_{2}\\left( -4\\sqrt{2} ;-\\sqrt{2}\\right)\\\\\n",
    "A_{2} =2\\cdot \\begin{bmatrix}\n",
    "0 & -4\\sqrt{2} & -16\\sqrt{2}\\\\\n",
    "-4\\sqrt{2} & 2-\\frac{7}{2} & 6\\\\\n",
    "-16\\sqrt{2} & 6 & 32-16\\cdot \\frac{7}{2}\n",
    "\\end{bmatrix}\n",
    "\\end{gather*}"
   ]
  },
  {
   "cell_type": "code",
   "execution_count": 4,
   "metadata": {},
   "outputs": [
    {
     "data": {
      "text/plain": [
       "array([[  0.       , -11.3137085, -45.254834 ],\n",
       "       [-11.3137085,  -3.       ,  12.       ],\n",
       "       [-45.254834 ,  12.       , -48.       ]])"
      ]
     },
     "execution_count": 4,
     "metadata": {},
     "output_type": "execute_result"
    }
   ],
   "source": [
    "A2 = 2 * np.array([[0, -4 * np.sqrt(2), -16 * np.sqrt(2)],\n",
    "                   [-4 * np.sqrt(2), 2 - 7 / 2, 6],\n",
    "                   [-16 * np.sqrt(2), 6, 32 - 16 * 7 / 2]])\n",
    "A2"
   ]
  },
  {
   "cell_type": "code",
   "execution_count": 5,
   "metadata": {
    "scrolled": true
   },
   "outputs": [
    {
     "data": {
      "text/plain": [
       "24576.000000000015"
      ]
     },
     "execution_count": 5,
     "metadata": {},
     "output_type": "execute_result"
    }
   ],
   "source": [
    "np.linalg.det(A2)"
   ]
  },
  {
   "cell_type": "markdown",
   "metadata": {},
   "source": [
    "\\begin{gather*}\n",
    "| A_{2}| =24576\n",
    "\\end{gather*}"
   ]
  },
  {
   "cell_type": "markdown",
   "metadata": {},
   "source": [
    "\\begin{gather*}\n",
    "\\lambda_{1} =-\\frac{7}{2} ;\\ M_{3}\\left( -4\\sqrt{2} ;\\sqrt{2}\\right)\\\\\n",
    "A_{3} =2\\cdot \\begin{bmatrix}\n",
    "0 & -4\\sqrt{2} & 16\\sqrt{2}\\\\\n",
    "-4\\sqrt{2} & 2-\\frac{7}{2} & 6\\\\\n",
    "16\\sqrt{2} & 6 & 32-16\\cdot \\frac{7}{2}\n",
    "\\end{bmatrix}\n",
    "\\end{gather*}"
   ]
  },
  {
   "cell_type": "code",
   "execution_count": 6,
   "metadata": {},
   "outputs": [
    {
     "data": {
      "text/plain": [
       "array([[  0.       , -11.3137085,  45.254834 ],\n",
       "       [-11.3137085,  -3.       ,  12.       ],\n",
       "       [ 45.254834 ,  12.       , -48.       ]])"
      ]
     },
     "execution_count": 6,
     "metadata": {},
     "output_type": "execute_result"
    }
   ],
   "source": [
    "A3 = 2 * np.array([[0, -4 * np.sqrt(2), 16 * np.sqrt(2)],\n",
    "                   [-4 * np.sqrt(2), 2 - 7 / 2, 6],\n",
    "                   [16 * np.sqrt(2), 6, 32 - 16 * 7 / 2]])\n",
    "A3"
   ]
  },
  {
   "cell_type": "code",
   "execution_count": 7,
   "metadata": {
    "scrolled": true
   },
   "outputs": [
    {
     "data": {
      "text/plain": [
       "0.0"
      ]
     },
     "execution_count": 7,
     "metadata": {},
     "output_type": "execute_result"
    }
   ],
   "source": [
    "np.linalg.det(A3)"
   ]
  },
  {
   "cell_type": "markdown",
   "metadata": {},
   "source": [
    "\\begin{gather*}\n",
    "| A_{3}| =0\n",
    "\\end{gather*}"
   ]
  },
  {
   "cell_type": "markdown",
   "metadata": {},
   "source": [
    "\\begin{gather*}\n",
    "\\lambda_{1} =-\\frac{7}{2} ;\\ M_{4}\\left( 4\\sqrt{2} ;-\\sqrt{2}\\right)\\\\\n",
    "A_{4} =2\\cdot \\begin{bmatrix}\n",
    "0 & 4\\sqrt{2} & -16\\sqrt{2}\\\\\n",
    "4\\sqrt{2} & 2-\\frac{7}{2} & 6\\\\\n",
    "-16\\sqrt{2} & 6 & 32-16\\cdot \\frac{7}{2}\n",
    "\\end{bmatrix}\n",
    "\\end{gather*}"
   ]
  },
  {
   "cell_type": "code",
   "execution_count": 8,
   "metadata": {},
   "outputs": [
    {
     "data": {
      "text/plain": [
       "array([[  0.       ,  11.3137085, -45.254834 ],\n",
       "       [ 11.3137085,  -3.       ,  12.       ],\n",
       "       [-45.254834 ,  12.       , -48.       ]])"
      ]
     },
     "execution_count": 8,
     "metadata": {},
     "output_type": "execute_result"
    }
   ],
   "source": [
    "A4 = 2 * np.array([[0, 4 * np.sqrt(2), -16 * np.sqrt(2)],\n",
    "                   [4 * np.sqrt(2), 2 - 7 / 2, 6],\n",
    "                   [-16 * np.sqrt(2), 6, 32 - 16 * 7 / 2]])\n",
    "A4"
   ]
  },
  {
   "cell_type": "code",
   "execution_count": 9,
   "metadata": {
    "scrolled": true
   },
   "outputs": [
    {
     "data": {
      "text/plain": [
       "0.0"
      ]
     },
     "execution_count": 9,
     "metadata": {},
     "output_type": "execute_result"
    }
   ],
   "source": [
    "np.linalg.det(A4)"
   ]
  },
  {
   "cell_type": "markdown",
   "metadata": {},
   "source": [
    "\\begin{gather*}\n",
    "| A_{4}| =0\n",
    "\\end{gather*}"
   ]
  },
  {
   "cell_type": "markdown",
   "metadata": {},
   "source": [
    "\\begin{gather*}\n",
    "\\lambda_{2} =-\\frac{1}{2} ;\\ M_{5}\\left( 4\\sqrt{2} ;\\sqrt{2}\\right)\\\\\n",
    "A_{5} =2\\cdot \\begin{bmatrix}\n",
    "0 & 4\\sqrt{2} & 16\\sqrt{2}\\\\\n",
    "4\\sqrt{2} & 2-\\frac{1}{2} & 6\\\\\n",
    "16\\sqrt{2} & 6 & 32-16\\cdot \\frac{1}{2}\n",
    "\\end{bmatrix}\n",
    "\\end{gather*}"
   ]
  },
  {
   "cell_type": "code",
   "execution_count": 10,
   "metadata": {},
   "outputs": [
    {
     "data": {
      "text/plain": [
       "array([[ 0.       , 11.3137085, 45.254834 ],\n",
       "       [11.3137085,  3.       , 12.       ],\n",
       "       [45.254834 , 12.       , 48.       ]])"
      ]
     },
     "execution_count": 10,
     "metadata": {},
     "output_type": "execute_result"
    }
   ],
   "source": [
    "A5 = 2 * np.array([[0, 4 * np.sqrt(2), 16 * np.sqrt(2)],\n",
    "                   [4 * np.sqrt(2), 2 - 1 / 2, 6],\n",
    "                   [16 * np.sqrt(2), 6, 32 - 16 * 1 / 2]])\n",
    "A5"
   ]
  },
  {
   "cell_type": "code",
   "execution_count": 11,
   "metadata": {
    "scrolled": true
   },
   "outputs": [
    {
     "data": {
      "text/plain": [
       "0.0"
      ]
     },
     "execution_count": 11,
     "metadata": {},
     "output_type": "execute_result"
    }
   ],
   "source": [
    "np.linalg.det(A5)"
   ]
  },
  {
   "cell_type": "markdown",
   "metadata": {},
   "source": [
    "\\begin{gather*}\n",
    "| A_{5}| =0\n",
    "\\end{gather*}"
   ]
  },
  {
   "cell_type": "markdown",
   "metadata": {},
   "source": [
    "\\begin{gather*}\n",
    "\\lambda_{2} =-\\frac{1}{2} ;\\ M_{6}\\left( -4\\sqrt{2} ;-\\sqrt{2}\\right)\\\\\n",
    "A_{6} =2\\cdot \\begin{bmatrix}\n",
    "0 & -4\\sqrt{2} & -16\\sqrt{2}\\\\\n",
    "-4\\sqrt{2} & 2-\\frac{1}{2} & 6\\\\\n",
    "-16\\sqrt{2} & 6 & 32-16\\cdot \\frac{1}{2}\n",
    "\\end{bmatrix}\n",
    "\\end{gather*}"
   ]
  },
  {
   "cell_type": "code",
   "execution_count": 12,
   "metadata": {},
   "outputs": [
    {
     "data": {
      "text/plain": [
       "array([[  0.       , -11.3137085, -45.254834 ],\n",
       "       [-11.3137085,   3.       ,  12.       ],\n",
       "       [-45.254834 ,  12.       ,  48.       ]])"
      ]
     },
     "execution_count": 12,
     "metadata": {},
     "output_type": "execute_result"
    }
   ],
   "source": [
    "A6 = 2 * np.array([[0, -4 * np.sqrt(2), -16 * np.sqrt(2)],\n",
    "                   [-4 * np.sqrt(2), 2 - 1 / 2, 6],\n",
    "                   [-16 * np.sqrt(2), 6, 32 - 16 * 1 / 2]])\n",
    "A6"
   ]
  },
  {
   "cell_type": "code",
   "execution_count": 13,
   "metadata": {
    "scrolled": true
   },
   "outputs": [
    {
     "data": {
      "text/plain": [
       "0.0"
      ]
     },
     "execution_count": 13,
     "metadata": {},
     "output_type": "execute_result"
    }
   ],
   "source": [
    "np.linalg.det(A6)"
   ]
  },
  {
   "cell_type": "markdown",
   "metadata": {},
   "source": [
    "\\begin{gather*}\n",
    "| A_{6}| =0\n",
    "\\end{gather*}"
   ]
  },
  {
   "cell_type": "markdown",
   "metadata": {},
   "source": [
    "\\begin{gather*}\n",
    "\\lambda_{2} =-\\frac{1}{2} ;\\ M_{7}\\left( -4\\sqrt{2} ;\\sqrt{2}\\right)\\\\\n",
    "A_{7} =2\\cdot \\begin{bmatrix}\n",
    "0 & -4\\sqrt{2} & 16\\sqrt{2}\\\\\n",
    "-4\\sqrt{2} & 2-\\frac{1}{2} & 6\\\\\n",
    "16\\sqrt{2} & 6 & 32-16\\cdot \\frac{1}{2}\n",
    "\\end{bmatrix}\n",
    "\\end{gather*}"
   ]
  },
  {
   "cell_type": "code",
   "execution_count": 14,
   "metadata": {},
   "outputs": [
    {
     "data": {
      "text/plain": [
       "array([[  0.       , -11.3137085,  45.254834 ],\n",
       "       [-11.3137085,   3.       ,  12.       ],\n",
       "       [ 45.254834 ,  12.       ,  48.       ]])"
      ]
     },
     "execution_count": 14,
     "metadata": {},
     "output_type": "execute_result"
    }
   ],
   "source": [
    "A7 = 2 * np.array([[0, -4 * np.sqrt(2), 16 * np.sqrt(2)],\n",
    "                   [-4 * np.sqrt(2), 2 - 1 / 2, 6],\n",
    "                   [16 * np.sqrt(2), 6, 32 - 16 * 1 / 2]])\n",
    "A7"
   ]
  },
  {
   "cell_type": "code",
   "execution_count": 15,
   "metadata": {
    "scrolled": true
   },
   "outputs": [
    {
     "data": {
      "text/plain": [
       "-24576.000000000015"
      ]
     },
     "execution_count": 15,
     "metadata": {},
     "output_type": "execute_result"
    }
   ],
   "source": [
    "np.linalg.det(A7)"
   ]
  },
  {
   "cell_type": "markdown",
   "metadata": {},
   "source": [
    "\\begin{gather*}\n",
    "| A_{7}| =-24576\n",
    "\\end{gather*}"
   ]
  },
  {
   "cell_type": "markdown",
   "metadata": {},
   "source": [
    "\\begin{gather*}\n",
    "\\lambda_{2} =-\\frac{1}{2} ;\\ M_{8}\\left( 4\\sqrt{2} ;-\\sqrt{2}\\right)\\\\\n",
    "A_{8} =2\\cdot \\begin{bmatrix}\n",
    "0 & 4\\sqrt{2} & -16\\sqrt{2}\\\\\n",
    "4\\sqrt{2} & 2-\\frac{1}{2} & 6\\\\\n",
    "-16\\sqrt{2} & 6 & 32-16\\cdot \\frac{1}{2}\n",
    "\\end{bmatrix}\n",
    "\\end{gather*}"
   ]
  },
  {
   "cell_type": "code",
   "execution_count": 16,
   "metadata": {},
   "outputs": [
    {
     "data": {
      "text/plain": [
       "array([[  0.       ,  11.3137085, -45.254834 ],\n",
       "       [ 11.3137085,   3.       ,  12.       ],\n",
       "       [-45.254834 ,  12.       ,  48.       ]])"
      ]
     },
     "execution_count": 16,
     "metadata": {},
     "output_type": "execute_result"
    }
   ],
   "source": [
    "A8 = 2 * np.array([[0, 4 * np.sqrt(2), -16 * np.sqrt(2)],\n",
    "                   [4 * np.sqrt(2), 2 - 1 / 2, 6],\n",
    "                   [-16 * np.sqrt(2), 6, 32 - 16 * 1 / 2]])\n",
    "A8"
   ]
  },
  {
   "cell_type": "code",
   "execution_count": 17,
   "metadata": {
    "scrolled": true
   },
   "outputs": [
    {
     "data": {
      "text/plain": [
       "-24576.000000000015"
      ]
     },
     "execution_count": 17,
     "metadata": {},
     "output_type": "execute_result"
    }
   ],
   "source": [
    "np.linalg.det(A8)"
   ]
  },
  {
   "cell_type": "markdown",
   "metadata": {},
   "source": [
    "\\begin{gather*}\n",
    "| A_{8}| =-24576\n",
    "\\end{gather*}"
   ]
  },
  {
   "cell_type": "markdown",
   "metadata": {},
   "source": [
    "$| A_{1}| =24576\\rightarrow | A_{1}|  >0\\rightarrow$ функция $u$ имеет максимум в точке $M_{1}\\left( 4\\sqrt{2} ;\\sqrt{2}\\right)$\n",
    "\n",
    "\n",
    "$| A_{2}| =24576\\rightarrow | A_{2}| > 0\\ \\rightarrow$ функция $u$ имеет максимум в точке $M_{2}\\left( -4\\sqrt{2} ;-\\sqrt{2}\\right)$\n",
    "\n",
    "$| A_{7}| =-24576\\rightarrow | A_{7}|  < 0\\rightarrow$ функция $u$ имеет нимум в точке $M_{7}\\left( -4\\sqrt{2} ;\\sqrt{2}\\right)$\n",
    "\n",
    "\n",
    "$| A_{8}| =-24576\\rightarrow | A_{8}| < 0\\ \\rightarrow$ функция $u$ имеет нимум в точке $M_{8}\\left( 4\\sqrt{2} ;-\\sqrt{2}\\right)$"
   ]
  },
  {
   "cell_type": "markdown",
   "metadata": {},
   "source": [
    "\\begin{gather*}\n",
    "u_{max} =u\\left( 4\\sqrt{2} ;\\sqrt{2}\\right) =2\\cdotp \\left( 4\\sqrt{2}\\right)^{2} +12\\cdot 4\\sqrt{2} \\cdot \\sqrt{2} +32\\cdot \\left(\\sqrt{2}\\right)^{2} +15=\\\\\n",
    "=2\\cdotp 16\\cdot 2+12\\cdot 4\\cdot 2+32\\cdot 2+15=239\\\\\n",
    "u_{max} =u\\left( -4\\sqrt{2} ;-\\sqrt{2}\\right) =2\\cdotp \\left( -4\\sqrt{2}\\right)^{2} +12\\cdot \\left( -4\\sqrt{2}\\right) \\cdot \\left( -\\sqrt{2}\\right) +32\\cdot \\left( -\\sqrt{2}\\right)^{2} +15=\\\\\n",
    "=2\\cdotp 16\\cdot 2+12\\cdot 4\\cdot 2+32\\cdot 2+15=239\\\\\n",
    "u_{min} =u\\left( -4\\sqrt{2} ;\\sqrt{2}\\right) =2\\cdotp \\left( -4\\sqrt{2}\\right)^{2} +12\\cdot \\left( -4\\sqrt{2}\\right) \\cdot \\sqrt{2} +32\\cdot \\left(\\sqrt{2}\\right)^{2} +15=\\\\\n",
    "=2\\cdotp 16\\cdot 2-12\\cdot 4\\cdot 2+32\\cdot 2+15=47\\\\\n",
    "u_{min} =u\\left( 4\\sqrt{2} ;-\\sqrt{2}\\right) =2\\cdotp \\left( 4\\sqrt{2}\\right)^{2} +12\\cdot 4\\sqrt{2} \\cdot \\left( -\\sqrt{2}\\right) +32\\cdot \\left( -\\sqrt{2}\\right)^{2} +15=\\\\\n",
    "=2\\cdotp 16\\cdot 2-12\\cdot 4\\cdot 2+32\\cdot 2+15=47\n",
    "\\end{gather*}"
   ]
  },
  {
   "cell_type": "markdown",
   "metadata": {},
   "source": [
    "### *Ответ:*"
   ]
  },
  {
   "cell_type": "markdown",
   "metadata": {},
   "source": [
    "### **при условии** $x^{2} +16y^{2} =64$"
   ]
  },
  {
   "cell_type": "markdown",
   "metadata": {},
   "source": [
    "### $u_{max} =u\\left( 4\\sqrt{2} {;}\\sqrt{2}\\right) =239$"
   ]
  },
  {
   "cell_type": "markdown",
   "metadata": {},
   "source": [
    "### $u_{max} =u\\left( -4\\sqrt{2} {;}-\\sqrt{2}\\right) =239$"
   ]
  },
  {
   "cell_type": "markdown",
   "metadata": {},
   "source": [
    "### $u_{min} =u\\left( -4\\sqrt{2} {;}\\sqrt{2}\\right) =47$"
   ]
  },
  {
   "cell_type": "markdown",
   "metadata": {},
   "source": [
    "### $u_{min} =u\\left( 4\\sqrt{2} {;}-\\sqrt{2}\\right) =47$"
   ]
  },
  {
   "cell_type": "markdown",
   "metadata": {},
   "source": [
    "### 3. Найти производную функции $u=x^{2} +y^{2} +z^{2}$ по направлению вектора $\\vec{c}( -9,8,-12)$ в точку $M( 8;-12;9)$"
   ]
  },
  {
   "cell_type": "markdown",
   "metadata": {},
   "source": [
    "\\begin{gather*}\n",
    "u^{\\prime }_{x} =\\left( x^{2} +y^{2} +z^{2}\\right)^{\\prime }_{x} =2x\\\\\n",
    "u^{\\prime }_{y} =\\left( x^{2} +y^{2} +z^{2}\\right)^{\\prime }_{y} =2y\\\\\n",
    "u^{\\prime }_{z} =\\left( x^{2} +y^{2} +z^{2}\\right)^{\\prime }_{z} =2z\n",
    "\\end{gather*}"
   ]
  },
  {
   "cell_type": "markdown",
   "metadata": {},
   "source": [
    "\\begin{gather*}\n",
    "u^{\\prime }_{x}( M) =u^{\\prime }_{x}( 8;-12;9) =2\\cdot 8=16\\\\\n",
    "u^{\\prime }_{y}( M) =u^{\\prime }_{y}( 8;-12;9) =2\\cdot ( -12) =-24\\\\\n",
    "u^{\\prime }_{z}( M) =u^{\\prime }_{z}( 8;-12;9) =2\\cdot 9=18\n",
    "\\end{gather*}"
   ]
  },
  {
   "cell_type": "markdown",
   "metadata": {},
   "source": [
    "\\begin{gather*}\n",
    "\\overrightarrow{c_{0}} =\\frac{\\vec{c}}{\\left| \\vec{c}\\right| } =\\frac{-9\\vec{i} +8\\vec{j} -12\\vec{k}}{\\sqrt{( -9)^{2} +8^{2} +( -12)^{2}}} =\\frac{-9\\vec{i} +8\\vec{j} -12\\vec{k}}{\\sqrt{289}} =\\\\\n",
    "=-\\frac{9}{17}\\vec{i} +\\frac{8}{17}\\vec{j} -\\frac{12}{17}\\vec{k}\n",
    "\\end{gather*}"
   ]
  },
  {
   "cell_type": "markdown",
   "metadata": {},
   "source": [
    "\\begin{gather*}\n",
    "\\cos \\alpha =-\\frac{9}{17}\\\\\n",
    "\\cos \\beta =\\frac{8}{17}\\\\\n",
    "\\cos \\gamma =-\\frac{12}{17}\n",
    "\\end{gather*}"
   ]
  },
  {
   "cell_type": "markdown",
   "metadata": {},
   "source": [
    "\\begin{gather*}\n",
    "\\frac{\\partial u}{\\partial l} =u^{\\prime }_{x}( M) \\cdot \\cos \\alpha +\\ u^{\\prime }_{y}( M) \\cdot \\ \\cos \\beta +u^{\\prime }_{z}( M) \\cdot \\cos \\gamma \\\\\n",
    "\\frac{\\partial u}{\\partial l} =16\\cdot \\left( -\\frac{9}{17}\\right) -24\\cdot \\frac{8}{17} +18\\cdot \\left( -\\frac{12}{17}\\right) =\\\\\n",
    "=-\\frac{144}{17} -\\frac{192}{17} -\\frac{216}{17} =-\\frac{552}{17}\n",
    "\\end{gather*}"
   ]
  },
  {
   "cell_type": "markdown",
   "metadata": {},
   "source": [
    "### *Ответ: $\\frac{\\partial u}{\\partial l} =-\\frac{552}{17}$* "
   ]
  },
  {
   "cell_type": "markdown",
   "metadata": {},
   "source": [
    "### 4. Найти производную функции $e^{{x}^{2} +y^{2} +z^{2}}$ по направлению вектора $\\vec{d}( 4,-13,-16)$ в точку $L( -16;4;-13)$"
   ]
  },
  {
   "cell_type": "markdown",
   "metadata": {},
   "source": [
    "\\begin{gather*}\n",
    "u=e^{{x}^{2} +y^{2} +z^{2}}\\\\\n",
    "\\vec{d}( 4,-13,-16)\\\\\n",
    "L( -16;4;-13)\n",
    "\\end{gather*}"
   ]
  },
  {
   "cell_type": "markdown",
   "metadata": {},
   "source": [
    "\\begin{gather*}\n",
    "u^{\\prime }_{x} =\\left( e^{x^{2} +y^{2} +z^{2}}\\right)^{\\prime }_{x} =e^{x^{2} +y^{2} +z^{2}} \\cdot 2x\\\\\n",
    "u^{\\prime }_{y} =\\left( e^{x^{2} +y^{2} +z^{2}}\\right)^{\\prime }_{y} =e^{x^{2} +y^{2} +z^{2}} \\cdot 2y\\\\\n",
    "u^{\\prime }_{z} =\\left( e^{x^{2} +y^{2} +z^{2}}\\right)^{\\prime }_{z} =e^{x^{2} +y^{2} +z^{2}} \\cdot 2z\\\\\n",
    "\\end{gather*}"
   ]
  },
  {
   "cell_type": "markdown",
   "metadata": {},
   "source": [
    "\\begin{gather*}\n",
    "u^{\\prime }_{x}( L) =u^{\\prime }_{x}( -16;4;-13) =2\\cdot ( -16) \\cdot e^{( -16)^{2} +4^{2} +( -13)^{2}} =-32e^{441}\\\\\n",
    "u^{\\prime }_{y}( L) =u^{\\prime }_{y}( -16;4;-13) =2\\cdot 4\\cdot e^{( -16)^{2} +4^{2} +( -13)^{2}} =8e^{441}\\\\\n",
    "u^{\\prime }_{z}( L) =u^{\\prime }_{z}( -16;4;-13) =2\\cdot ( -13) \\cdot e^{( -16)^{2} +4^{2} +( -13)^{2}} =-26e^{441}\n",
    "\\end{gather*}"
   ]
  },
  {
   "cell_type": "markdown",
   "metadata": {},
   "source": [
    "\\begin{gather*}\n",
    "\\overrightarrow{d_{0}} =\\frac{\\vec{d}}{\\left| \\vec{d}\\right| } =\\frac{4\\vec{i} -13\\vec{j} -16\\vec{k}}{\\sqrt{4^{2} +( -13)^{2} +( -12)^{2}}} =\\frac{4\\vec{i} -13\\vec{j} -16\\vec{k}}{\\sqrt{441}} =\\\\\n",
    "=\\frac{4}{21}\\vec{i} -\\frac{13}{21}\\vec{j} -\\frac{16}{21}\\vec{k}\\\\\n",
    "\\\\\n",
    "\\cos \\alpha =\\frac{4}{21}\\\\\n",
    "\\cos \\beta =-\\frac{13}{21}\\\\\n",
    "\\cos \\gamma =-\\frac{16}{21}\n",
    "\\end{gather*}"
   ]
  },
  {
   "cell_type": "markdown",
   "metadata": {},
   "source": [
    "\\begin{gather*}\n",
    "\\frac{\\partial u}{\\partial l} =u^{\\prime }_{x}( L) \\cdot \\cos \\alpha +\\ u^{\\prime }_{y}( L) \\cdot \\ \\cos \\beta +u^{\\prime }_{z}( L) \\cdot \\cos \\gamma \\\\\n",
    "\\frac{\\partial u}{\\partial l} =-32e^{441} \\cdot \\frac{4}{21} +8e^{441} \\cdot \\left( -\\frac{13}{21}\\right) -26e^{441} \\cdot \\left( -\\frac{16}{21}\\right) =\\\\\n",
    "=-\\frac{128e^{441}}{21} -\\frac{104e^{441}}{21} +\\frac{416e^{441}}{21} =\\\\\n",
    "=\\frac{e^{441} \\cdot ( -128-104+416)}{21} =\\frac{184e^{441}}{21}\n",
    "\\end{gather*}"
   ]
  },
  {
   "cell_type": "markdown",
   "metadata": {},
   "source": [
    "### *Ответ: $\\frac{\\partial u}{\\partial l} =\\frac{184e^{441}}{21}$* "
   ]
  }
 ],
 "metadata": {
  "kernelspec": {
   "display_name": "Python 3",
   "language": "python",
   "name": "python3"
  },
  "language_info": {
   "codemirror_mode": {
    "name": "ipython",
    "version": 3
   },
   "file_extension": ".py",
   "mimetype": "text/x-python",
   "name": "python",
   "nbconvert_exporter": "python",
   "pygments_lexer": "ipython3",
   "version": "3.7.3"
  }
 },
 "nbformat": 4,
 "nbformat_minor": 2
}
