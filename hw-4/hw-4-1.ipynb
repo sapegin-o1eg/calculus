{
 "cells": [
  {
   "cell_type": "markdown",
   "metadata": {},
   "source": [
    "## “Производная функции нескольких переменных. Часть 1"
   ]
  },
  {
   "cell_type": "markdown",
   "metadata": {},
   "source": [
    "### 1. Найти область определения функции."
   ]
  },
  {
   "cell_type": "markdown",
   "metadata": {},
   "source": [
    "#### $z=\\sqrt{1-x^{3}} +\\ln\\left( y^{2} -1\\right)$"
   ]
  },
  {
   "cell_type": "markdown",
   "metadata": {},
   "source": [
    "\\begin{gather*}\n",
    "1-x^{3} \\geqslant 0\\\\\n",
    "1\\geqslant x^{3}\\\\\n",
    "x\\leqslant \\sqrt[3]{1}\\\\\n",
    "x\\leqslant 1\\\\\n",
    "\\\\\n",
    "y^{2} -1 >0\\\\\n",
    "y^{2}  >1\\\\\n",
    "\\sqrt{y^{2}}  >1\\\\\n",
    "| y|  >1\\ \\\\\n",
    "-y >1\\\\\n",
    "y< -1\\\\\n",
    "\\ y >1\n",
    "\\end{gather*}"
   ]
  },
  {
   "cell_type": "markdown",
   "metadata": {},
   "source": [
    "#### **Ответ:**"
   ]
  },
  {
   "cell_type": "markdown",
   "metadata": {},
   "source": [
    "### $x\\in ( -\\infty ;1]$"
   ]
  },
  {
   "cell_type": "markdown",
   "metadata": {},
   "source": [
    "### $y\\in ( -\\infty ;-1) \\cup ( 1;+\\infty )$"
   ]
  },
  {
   "cell_type": "markdown",
   "metadata": {},
   "source": [
    "### 2. Найти частные производные 1-го порядка функции."
   ]
  },
  {
   "cell_type": "markdown",
   "metadata": {},
   "source": [
    "### $z=\\left( 1+\\frac{\\ln( x)}{\\ln( y)}\\right)^{3}$"
   ]
  },
  {
   "cell_type": "markdown",
   "metadata": {},
   "source": [
    "\\begin{gather*}\n",
    "z^{\\prime }_{x} =\\left(\\left( 1+\\frac{\\ln x}{\\ln y}\\right)^{3}\\right)^{\\prime }_{x} =3\\cdotp \\left( 1+\\frac{\\ln x}{\\ln y}\\right)^{2} \\cdotp \\frac{1}{x} \\cdotp \\frac{1}{\\ln y} =\\\\\n",
    "=\\frac{3\\left( 1+\\frac{\\ln x}{\\ln y}\\right)^{2}}{x\\ln y} =\\frac{3\\left(\\frac{\\ln y+\\ln x}{\\ln y}\\right)^{2}}{x\\ln y} =\\frac{\\frac{3(\\ln y+\\ln x)^{2}}{\\ln^{2} y}}{x\\ln y} =\\\\\n",
    "=\\frac{3(\\ln y+\\ln x)^{2}}{\\ln^{2} y} \\cdotp \\frac{1}{x\\ln y} =\\frac{3(\\ln y+\\ln x)^{2}}{x\\ln^{3} y}\n",
    "\\end{gather*}"
   ]
  },
  {
   "cell_type": "markdown",
   "metadata": {},
   "source": [
    "\\begin{gather*}\n",
    "z^{\\prime }_{y} =\\left(\\left( 1+\\frac{\\ln x}{\\ln y}\\right)^{3}\\right)^{\\prime }_{y} =3\\cdotp \\left( 1+\\frac{\\ln x}{\\ln y}\\right)^{2} \\cdotp \\ln x\\cdotp ( -1) \\cdotp \\ln^{-2} y\\cdotp \\frac{1}{y} =\\\\\n",
    "=-\\frac{3\\ln x\\left( 1+\\frac{\\ln x}{\\ln y}\\right)^{2}}{y\\ln^{2} y} =-\\frac{\\frac{3\\ln x(\\ln y+\\ln x)^{2}}{\\ln^{2} y}}{y\\ln^{2} y} =\\\\\n",
    "=-\\frac{3\\ln x(\\ln y+\\ln x)^{2}}{\\ln^{2} y} \\cdotp \\frac{1}{y\\ln^{2} y} =-\\frac{3\\ln x(\\ln y+\\ln x)^{2}}{y\\ln^{4} y}\n",
    "\\end{gather*}"
   ]
  },
  {
   "cell_type": "markdown",
   "metadata": {},
   "source": [
    "#### **Ответ:**"
   ]
  },
  {
   "cell_type": "markdown",
   "metadata": {},
   "source": [
    "### $z^{\\prime }_{x} =\\frac{3(\\ln y+\\ln x)^{2}}{x\\ln^{3} y}$"
   ]
  },
  {
   "cell_type": "markdown",
   "metadata": {},
   "source": [
    "### $z^{\\prime }_{y} =-\\frac{3\\ln x(\\ln y+\\ln x)^{2}}{y\\ln^{4} y}$"
   ]
  },
  {
   "cell_type": "markdown",
   "metadata": {},
   "source": [
    "### 3.  Найти полный дифференциал функции в точке (1;1)."
   ]
  },
  {
   "cell_type": "markdown",
   "metadata": {},
   "source": [
    "### $z\\ =\\ \\sqrt{2xy\\ +\\ \\cos\\left(\\frac{x}{y}\\right)}$"
   ]
  },
  {
   "cell_type": "markdown",
   "metadata": {},
   "source": [
    "\\begin{equation*}\n",
    "dz=z^{\\prime }_{x\\ } dx+z^{\\prime }_{y} \\ dy\n",
    "\\end{equation*}\n",
    "\\begin{equation*}\n",
    "dz( x_{0} ,y_{0}) =z^{\\prime }_{x\\ }( x_{0} ,y_{0}) \\ dx+z^{\\prime }_{y} \\ ( x_{0} ,y_{0}) \\ dy\n",
    "\\end{equation*}"
   ]
  },
  {
   "cell_type": "markdown",
   "metadata": {},
   "source": [
    "\\begin{equation*}\n",
    "z^{\\prime }_{x} =\\left(\\sqrt{2xy\\ +\\ \\cos\\left(\\frac{x}{y}\\right)}\\right)^{\\prime }_{x} =\\left(\\frac{1}{2\\sqrt{2xy+\\cos\\left(\\frac{x}{y}\\right)}}\\right)\\left( 2y-\\sin\\left(\\frac{x}{y}\\right) \\cdot \\frac{1}{y}\\right) =\n",
    "\\end{equation*}\n",
    "\n",
    "\\begin{equation*}\n",
    "=\\frac{2y-\\frac{\\sin\\left(\\frac{x}{y}\\right)}{y}}{2\\sqrt{2xy+\\cos\\left(\\frac{x}{y}\\right)}} =\\frac{\\frac{2y^{2} -\\sin\\left(\\frac{x}{y}\\right)}{y}}{2\\sqrt{2xy+\\cos\\left(\\frac{x}{y}\\right)}} =\\frac{2y^{2} -\\sin\\left(\\frac{x}{y}\\right)}{2y\\sqrt{2xy+\\cos\\left(\\frac{x}{y}\\right)}}\n",
    "\\end{equation*}"
   ]
  },
  {
   "cell_type": "markdown",
   "metadata": {},
   "source": [
    "\\begin{equation*}\n",
    "z^{\\prime }_{y} =\\left(\\sqrt{2xy\\ +\\ \\cos\\left(\\frac{x}{y}\\right)}\\right)^{\\prime }_{y} =\\left(\\frac{1}{2\\sqrt{2xy+\\cos\\left(\\frac{x}{y}\\right)}}\\right)\\left( 2x-\\sin\\left(\\frac{x}{y}\\right) \\cdot x\\cdot ( -1) \\cdot \\frac{1}{y^{2}}\\right) =\n",
    "\\end{equation*}\n",
    "\n",
    "\\begin{equation*}\n",
    "=\\frac{2x+\\frac{x\\sin\\left(\\frac{x}{y}\\right)}{y^{2}}}{2\\sqrt{2xy+\\cos\\left(\\frac{x}{y}\\right)}} =\\frac{\\frac{2xy^{2} +x\\sin\\left(\\frac{x}{y}\\right)}{y^{2}}}{2\\sqrt{2xy+\\cos\\left(\\frac{x}{y}\\right)}} =\\frac{2xy^{2} +x\\sin\\left(\\frac{x}{y}\\right)}{2y^{2}\\sqrt{2xy+\\cos\\left(\\frac{x}{y}\\right)}}\n",
    "\\end{equation*}"
   ]
  },
  {
   "cell_type": "markdown",
   "metadata": {},
   "source": [
    "\n",
    "\n",
    "\n",
    "\\begin{equation*}\n",
    "dz=\\frac{2y^{2} -\\sin\\left(\\frac{x}{y}\\right)}{2y\\sqrt{2xy+\\cos\\left(\\frac{x}{y}\\right)}} dx+\\frac{2xy^{2} +x\\sin\\left(\\frac{x}{y}\\right)}{2y^{2}\\sqrt{2xy+\\cos\\left(\\frac{x}{y}\\right)}} dy\n",
    "\\end{equation*}\n",
    "\\begin{equation*}\n",
    "dz( 1,1) =\\frac{2\\cdot 1^{2} -\\sin\\left(\\frac{1}{1}\\right)}{2\\cdot 1\\sqrt{2\\cdot 1\\cdot 1+\\cos\\left(\\frac{1}{1}\\right)}} dx+\\frac{2\\cdot 1\\cdot 1^{2} +1\\cdot \\sin\\left(\\frac{1}{1}\\right)}{2\\cdot 1^{2}\\sqrt{2\\cdot 1\\cdot 1+\\cos\\left(\\frac{1}{1}\\right)}} dy=\n",
    "\\end{equation*}\n",
    "\\begin{equation*}\n",
    "=\\frac{2 -\\sin( 1)}{2\\sqrt{2+\\cos( 1)}} dx+\\frac{2 +\\sin( 1)}{2\\sqrt{2+\\cos( 1)}} dy\\approx 1.255\n",
    "\\end{equation*}"
   ]
  },
  {
   "cell_type": "markdown",
   "metadata": {},
   "source": [
    "#### **Ответ:** "
   ]
  },
  {
   "cell_type": "markdown",
   "metadata": {},
   "source": [
    "### $dz( 1,1) =\\frac{2 -\\sin( 1)}{2\\sqrt{2+\\cos( 1)}} dx+\\frac{2 +\\sin( 1)}{2\\sqrt{2+\\cos( 1)}} dy\\approx 1.255$"
   ]
  },
  {
   "cell_type": "markdown",
   "metadata": {},
   "source": [
    "### 4.  Исследовать на экстремум функцию"
   ]
  },
  {
   "cell_type": "markdown",
   "metadata": {},
   "source": [
    "### $z=x^{2} +xy+y^{2} -6x-9y$"
   ]
  },
  {
   "cell_type": "markdown",
   "metadata": {},
   "source": [
    "\\begin{gather*}\n",
    "z^{\\prime }_{x} =\\left( x^{2} +xy+y^{2} -6x-9y\\right)^{\\prime }_{x} =2x+y-6\\\\\n",
    "z^{\\prime }_{y} =\\left( x^{2} +xy+y^{2} -6x-9y\\right)^{\\prime }_{y} =x+2y-9\\\\\n",
    "\\\\\n",
    "z^{''}_{xx} =( 2x+y-6)^{\\prime }_{x} =2\\\\\n",
    "z^{''}_{yy} =( x+2y-9)^{\\prime }_{y} =2\\\\\n",
    "\\\\\n",
    "z^{''}_{xy} =( 2x+y-6)^{\\prime }_{y} =1\\\\\n",
    "z^{''}_{yx} =( x+2y-9)^{\\prime }_{x} =1\n",
    "\\end{gather*}"
   ]
  },
  {
   "cell_type": "markdown",
   "metadata": {},
   "source": [
    "\\begin{gather*}\n",
    "\\begin{cases}\n",
    "z^{\\prime }_{x} =0\\\\\n",
    "z^{\\prime }_{y} =0\n",
    "\\end{cases} \\Rightarrow \\begin{cases}\n",
    "2x+y-6=0\\\\\n",
    "x+2y-9=0\n",
    "\\end{cases}\n",
    "\\end{gather*}"
   ]
  },
  {
   "cell_type": "markdown",
   "metadata": {},
   "source": [
    "\\begin{gather*}\n",
    "y=6-2x\\\\\n",
    "x+2( 6-2x) -9=0\\\\\n",
    "x+12-4x-9=0\\\\\n",
    "3-3x=0\\\\\n",
    "3x=3\\\\\n",
    "x=1\\\\\n",
    "y=6-2\\cdotp 1\\\\\n",
    "y=4\\\\\n",
    "\\\\\n",
    "M_{0}( 1,4)\n",
    "\\end{gather*}"
   ]
  },
  {
   "cell_type": "markdown",
   "metadata": {},
   "source": [
    "\\begin{gather*}\n",
    "z^{''}_{xx} ( M_{0}) =2\\\\\n",
    "z^{''}_{xy} ( M_{0}) =1\\\\\n",
    "z^{''}_{yy} ( M_{0}) =2\n",
    "\\end{gather*}"
   ]
  },
  {
   "cell_type": "markdown",
   "metadata": {},
   "source": [
    "\\begin{gather*}\n",
    "\\Delta \\begin{bmatrix}\n",
    "z^{''}_{xx} & z^{''}_{xy}\\\\\n",
    "z^{''}_{yx} & z^{''}_{yy}\n",
    "\\end{bmatrix} =2\\cdotp 2-1\\cdotp 1=3\n",
    "\\end{gather*}"
   ]
  },
  {
   "cell_type": "markdown",
   "metadata": {},
   "source": [
    "$\\Delta  >0\\rightarrow$ функция имеет экстремум в точке\n",
    "\n",
    "$z^{''}_{xx}  >0\\rightarrow$ функция в точке $M_{0}(1,4)$  имеет минимум"
   ]
  },
  {
   "cell_type": "markdown",
   "metadata": {},
   "source": [
    " \\begin{array}{l}\n",
    "z_{min} =z( 1,4) =1^{2} +1\\cdotp 4+4^{2} -6\\cdot 1-9\\cdot 4=\\\\\n",
    "=1+4+16-6-36=-21\n",
    "\\end{array}"
   ]
  },
  {
   "cell_type": "markdown",
   "metadata": {},
   "source": [
    "#### **Ответ:**"
   ]
  },
  {
   "cell_type": "markdown",
   "metadata": {},
   "source": [
    "### $z_{min} =z( 1,4) =-21$"
   ]
  }
 ],
 "metadata": {
  "kernelspec": {
   "display_name": "Python 3",
   "language": "python",
   "name": "python3"
  },
  "language_info": {
   "codemirror_mode": {
    "name": "ipython",
    "version": 3
   },
   "file_extension": ".py",
   "mimetype": "text/x-python",
   "name": "python",
   "nbconvert_exporter": "python",
   "pygments_lexer": "ipython3",
   "version": "3.7.3"
  }
 },
 "nbformat": 4,
 "nbformat_minor": 2
}
