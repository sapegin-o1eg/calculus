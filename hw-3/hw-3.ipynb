{
 "cells": [
  {
   "cell_type": "code",
   "execution_count": 1,
   "metadata": {},
   "outputs": [],
   "source": [
    "import numpy as np"
   ]
  },
  {
   "cell_type": "markdown",
   "metadata": {},
   "source": [
    "# Тема 6 \"Понятие о производной\""
   ]
  },
  {
   "cell_type": "markdown",
   "metadata": {},
   "source": [
    "### 1. Найти производную выражения:"
   ]
  },
  {
   "cell_type": "markdown",
   "metadata": {},
   "source": [
    " - **a.** $sin(x) \\cdot cos(x)$\n",
    " \n",
    "$$f(x) = sin(x) \\cdot cos(x)$$\n",
    "\n",
    "$$f'(x) = \\left( sin(x) \\cdot cos(x) \\right )' =\\$$\n",
    "\n",
    "$$= (sin(x))' \\cdot cos(x) + sin(x) \\cdot (cos(x))' =\\$$\n",
    "\n",
    "$$= cos(x) \\cdot cos(x) + sin(x) \\cdot (-sin(x)) =\\$$\n",
    "\n",
    "$$= cos^{2}(x) - sin^{2}(x)$$\n",
    "\n",
    "**Ответ: $f'(x) = cos^{2}(x) - sin^{2}(x) $**"
   ]
  },
  {
   "cell_type": "markdown",
   "metadata": {},
   "source": [
    " - **b.** $ln(2x+1)^{3}$\n",
    " \n",
    "$$f(x) = ln(2x+1)^{3} = 3 \\cdot ln(2x+1)$$\n",
    "\n",
    "$$f'(x) = 3 \\cdot \\left( ln(2x+1)\\right )' =\\$$\n",
    "\n",
    "$$= 3 \\cdot \\frac{1}{2x+1} \\cdot 2 =\\$$\n",
    "\n",
    "$$= \\frac{6}{2x+1}$$\n",
    "\n",
    "**Ответ: $f'(x) = \\frac{6}{2x+1}$**"
   ]
  },
  {
   "cell_type": "markdown",
   "metadata": {},
   "source": [
    " - **c.** $\\sqrt{sin^{2}(ln(x^{3}))}$\n",
    " \n",
    "$$f(x) = \\sqrt{sin^{2}(ln(x^{3}))} = \\left( sin^{2}(3 \\cdot ln(x)) \\right)^{\\frac{1}{2}}$$\n",
    "\n",
    "$$f'(x) = \\left( \\left( sin^{2}(3 \\cdot ln(x)) \\right)^{\\frac{1}{2}} \\right)' =\\$$\n",
    "\n",
    "$$= \\frac{1}{2} \\cdot \\left( sin^{2}(3 \\cdot ln(x)) \\right)^{-\\frac{1}{2}} \\cdot \\left( sin^{2}(3 \\cdot ln(x)) \\right)' =\\$$\n",
    "\n",
    "$$= \\frac{1}{2 \\cdot \\sqrt{sin^{2}(3 \\cdot ln(x))}} \\cdot 2 \\cdot sin(3 \\cdot ln(x)) \\cdot \\left( sin(3 \\cdot ln(x)) \\right)' =\\$$\n",
    "\n",
    "$$= \\frac{sin(3 \\cdot ln(x))}{\\sqrt{sin^{2}(3 \\cdot ln(x))}} \\cdot cos(3 \\cdot ln(x)) \\cdot 3 \\cdot \\frac{1}{x} =\\$$\n",
    "\n",
    "$$= \\frac{sin(3 \\cdot ln(x))}{|sin(3 \\cdot ln(x))|} \\cdot \\frac{3 \\cdot cos(3 \\cdot ln(x))}{x}$$\n",
    "\n",
    "**Ответ: $f'(x) = \\frac{sin(3 \\cdot ln(x))}{|sin(3 \\cdot ln(x))|} \\cdot \\frac{3 \\cdot cos(3 \\cdot ln(x))}{x}$**"
   ]
  },
  {
   "cell_type": "markdown",
   "metadata": {},
   "source": [
    " - **d.** $\\frac{x^{4}}{ln(x)}$\n",
    " \n",
    "$$f(x) = \\frac{x^{4}}{ln(x)}$$\n",
    "\n",
    "$$f'(x) = \\left( \\frac{x^{4}}{ln(x)} \\right)' = \\left( x^{4} \\cdot (ln(x))^{-1} \\right)' =\\$$"
   ]
  },
  {
   "cell_type": "markdown",
   "metadata": {},
   "source": [
    "$$= (x^{4})' \\cdot (ln(x))^{-1} + x^{4} \\cdot \\left((ln(x))^{-1}\\right)' =\\$$"
   ]
  },
  {
   "cell_type": "markdown",
   "metadata": {},
   "source": [
    "$$= 4x^3 \\cdot (ln(x))^{-1} + x^{4} \\cdot (-1) \\cdot \\left( ln(x) \\right)^{-2} \\cdot \\frac{1}{x} =\\$$"
   ]
  },
  {
   "cell_type": "markdown",
   "metadata": {},
   "source": [
    "$$= \\frac{4x^{3}}{ln(x)} - \\frac{x^{3}}{ln^{2}(x)} =\\$$"
   ]
  },
  {
   "cell_type": "markdown",
   "metadata": {},
   "source": [
    "**Ответ: $f'(x) = \\frac{4x^{3}}{ln(x)} - \\frac{x^{3}}{ln^{2}(x)}$**"
   ]
  },
  {
   "cell_type": "markdown",
   "metadata": {},
   "source": [
    "### 2. Найти выражение производной функции и ее значение в точке:"
   ]
  },
  {
   "cell_type": "markdown",
   "metadata": {},
   "source": [
    "$f(x) = cos(x^{2}+3x), x_{0}=\\sqrt{\\pi}$"
   ]
  },
  {
   "cell_type": "markdown",
   "metadata": {},
   "source": [
    "$$f'(x) = \\left( cos(x^{2}+3x) \\right)' = -sin(x^{2}+3x) \\cdot (2x+3)$$"
   ]
  },
  {
   "cell_type": "markdown",
   "metadata": {},
   "source": [
    "$$f'(\\sqrt{\\pi}) =  -sin \\left( \\sqrt{\\pi^{2}} + 3\\sqrt{\\pi} \\right) \\cdot \\left(2 \\sqrt{\\pi} + 3 \\right)$$"
   ]
  },
  {
   "cell_type": "code",
   "execution_count": 3,
   "metadata": {},
   "outputs": [
    {
     "data": {
      "text/plain": [
       "-5.383302410890619"
      ]
     },
     "execution_count": 3,
     "metadata": {},
     "output_type": "execute_result"
    }
   ],
   "source": [
    "-np.sin(np.pi + 3 * np.sqrt(np.pi)) * (2*np.sqrt(np.pi) + 3)"
   ]
  },
  {
   "cell_type": "markdown",
   "metadata": {},
   "source": [
    "**Ответ: $f'(\\sqrt{\\pi}) \\approx -5.383$**"
   ]
  },
  {
   "cell_type": "markdown",
   "metadata": {},
   "source": [
    "### 3. $\\ast$ Найти значение производной функции в точке:"
   ]
  },
  {
   "cell_type": "markdown",
   "metadata": {},
   "source": [
    "$f(x) = \\frac{x^{3}-x^{2}-x-1}{1+2x+3x^{2}-4x^{3}}, x_{0}=0$"
   ]
  },
  {
   "cell_type": "markdown",
   "metadata": {},
   "source": [
    "$$f'(x) = \\left( \\frac{x^{3}-x^{2}-x-1}{1+2x+3x^{2}-4x^{3}} \\right)' =\\$$"
   ]
  },
  {
   "cell_type": "markdown",
   "metadata": {},
   "source": [
    "$$= \\left( (x^{3}-x^{2}-x-1) \\cdot (1+2x+3x^{2}-4x^{3})^{-1} \\right)' =\\$$"
   ]
  },
  {
   "cell_type": "markdown",
   "metadata": {},
   "source": [
    "$$= (x^{3}-x^{2}-x-1)' \\cdot (1+2x+3x^{2}-4x^{3})^{-1} + (x^{3}-x^{2}-x-1) \\cdot \\left( (1+2x+3x^{2}-4x^{3})^{-1} \\right)' =\\$$"
   ]
  },
  {
   "cell_type": "markdown",
   "metadata": {},
   "source": [
    "$$= (3x^{2}-2x-1) \\cdot (1+2x+3x^{2}-4x^{3})^{-1} + (x^{3}-x^{2}-x-1) \\cdot (-1) \\cdot (1+2x+3x^{2}-4x^{3})^{-2} \\cdot (2+6x-12x^{2})=\\$$"
   ]
  },
  {
   "cell_type": "markdown",
   "metadata": {},
   "source": [
    "$$= \\frac{3x^{2}-2x-1}{1+2x+3x^{2}-4x^{3}} - \\frac{(x^{3}-x^{2}-x-1)\\cdot(2+6x-12x^{2})}{(1+2x+3x^{2}-4x^{3})^{2}}$$"
   ]
  },
  {
   "cell_type": "markdown",
   "metadata": {},
   "source": [
    "$$f'(0)= \\frac{3\\cdot0^{2}-2\\cdot0-1}{1+2\\cdot0+3\\cdot0^{2}-4\\cdot0^{3}} - \\frac{(0^{3}-0^{2}-0-1)\\cdot(2+6\\cdot0-12\\cdot0^{2})}{ \\left( 1+2\\cdot0+3\\cdot0^{2}-4\\cdot0^{3} \\right)^{2}} =\\$$"
   ]
  },
  {
   "cell_type": "markdown",
   "metadata": {},
   "source": [
    "$$f'(0)= \\frac{-1}{1} - \\frac{(-1)\\cdot 2}{1} = 1\\$$"
   ]
  },
  {
   "cell_type": "markdown",
   "metadata": {},
   "source": [
    "**Ответ: $f'(0)= 1\\$**"
   ]
  },
  {
   "cell_type": "markdown",
   "metadata": {},
   "source": [
    "### 3. Найти угол наклона касательной к графику функции в точке:"
   ]
  },
  {
   "cell_type": "markdown",
   "metadata": {},
   "source": [
    "$f(x) = \\sqrt{3x} \\cdot ln(x), x_{0}=1$"
   ]
  },
  {
   "cell_type": "markdown",
   "metadata": {},
   "source": [
    "$$f(x) = \\sqrt{3x} \\cdot ln(x) = \\sqrt{3} \\cdot \\sqrt{x} \\cdot ln(x)$$"
   ]
  },
  {
   "cell_type": "markdown",
   "metadata": {},
   "source": [
    "$$f'(x) = \\sqrt{3} \\cdot \\left( \\sqrt{x} \\cdot ln(x) \\right)' =\\$$"
   ]
  },
  {
   "cell_type": "markdown",
   "metadata": {},
   "source": [
    "$$= \\sqrt{3} \\cdot \\left( \\frac{1}{2\\sqrt{x}} \\cdot ln(x) + \\sqrt{x} \\cdot \\frac{1}{x} \\right) =\\$$"
   ]
  },
  {
   "cell_type": "markdown",
   "metadata": {},
   "source": [
    "$$= \\sqrt{3} \\cdot \\left( \\frac{ln(x)}{2\\sqrt{x}} + \\frac{1}{\\sqrt{x}} \\right) =\\$$"
   ]
  },
  {
   "cell_type": "markdown",
   "metadata": {},
   "source": [
    "$$f'(1)= \\sqrt{3} \\cdot \\left( \\frac{ln(1)}{2\\sqrt{1}} + \\frac{1}{\\sqrt{1}} \\right) = \\sqrt{3} \\cdot \\left(\\frac{0}{1} + 1 \\right) = \\sqrt3$$"
   ]
  },
  {
   "cell_type": "markdown",
   "metadata": {},
   "source": [
    "$$\\theta_{f(x)} = arctg(f'(x))$$"
   ]
  },
  {
   "cell_type": "code",
   "execution_count": null,
   "metadata": {},
   "outputs": [],
   "source": []
  },
  {
   "cell_type": "code",
   "execution_count": 23,
   "metadata": {},
   "outputs": [
    {
     "data": {
      "text/plain": [
       "1.0471975511965979"
      ]
     },
     "execution_count": 23,
     "metadata": {},
     "output_type": "execute_result"
    }
   ],
   "source": [
    "np.arctan(np.sqrt(3))"
   ]
  },
  {
   "cell_type": "code",
   "execution_count": 24,
   "metadata": {},
   "outputs": [
    {
     "data": {
      "text/plain": [
       "60.00000000000001"
      ]
     },
     "execution_count": 24,
     "metadata": {},
     "output_type": "execute_result"
    }
   ],
   "source": [
    "np.arctan(np.sqrt(3)) * 180 / np.pi"
   ]
  },
  {
   "cell_type": "markdown",
   "metadata": {},
   "source": [
    "$$\\theta_{f(x)} = arctg(\\sqrt{3}) = 60_{degrees} = 1.047_{rad}$$"
   ]
  }
 ],
 "metadata": {
  "kernelspec": {
   "display_name": "Python 3",
   "language": "python",
   "name": "python3"
  },
  "language_info": {
   "codemirror_mode": {
    "name": "ipython",
    "version": 3
   },
   "file_extension": ".py",
   "mimetype": "text/x-python",
   "name": "python",
   "nbconvert_exporter": "python",
   "pygments_lexer": "ipython3",
   "version": "3.7.3"
  }
 },
 "nbformat": 4,
 "nbformat_minor": 2
}
