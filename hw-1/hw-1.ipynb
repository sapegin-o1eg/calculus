{
 "cells": [
  {
   "cell_type": "markdown",
   "metadata": {},
   "source": [
    "# Тема “Введение в математических анализ”"
   ]
  },
  {
   "cell_type": "markdown",
   "metadata": {},
   "source": [
    "#### 1. Как относятся друг к другу множество и последовательность? (в ответе использовать слова типа: часть, целое, общее, частное, родитель, дочерний субъект и т.д.)"
   ]
  },
  {
   "cell_type": "markdown",
   "metadata": {},
   "source": [
    "Множество - это объект, который сам состоит из объектов - элементов множества, объединенных одним характерным для всех элементов свойством.\n",
    "\n",
    "Последовательность - это множество, элементы которого пронумерованы натуральными числами. Для каждого элемента последовательности можно выделить значение следующего за ним элемента.\n",
    "\n",
    "Множество воспринимается как единое целое, где все элементы обладают общим свойством. В то время, как последовательность - это пронумерованные натуральными числами члены последовательности, причем эти члены соответствуют некоторому правилу. Это правило задается формулой общего члена для последовательности.\n",
    "\n",
    "Множество может быть родительским для другого множества. Например, множество целых чисел $\\mathbb{R}$ является родительским для множества натуральных $\\mathbb{N}$. Любое натуральное число является дочерним субъектом множества натуральных чисел $\\mathbb{N}$ и множества целых чисел $\\mathbb{R}$."
   ]
  },
  {
   "cell_type": "markdown",
   "metadata": {},
   "source": [
    "#### 2. Прочитать высказывания математической логики, построить их отрицания и установить истинность."
   ]
  },
  {
   "cell_type": "markdown",
   "metadata": {},
   "source": [
    "$$\\forall y \\in [0;1]: sgn(y) = 1$$\n",
    " - Любое число $y$ из интревала от 0 включительно до 1 включительно, такое что sgn(y) = 1 - ложь\n",
    "$$\\exists y \\in [0;1]: sgn(y)\\not = 1$$\n",
    " - Существует число $y$ из интревала от 0 включительно до 1 включительно, такое sgn(y) $\\not=\n",
    "$ 1 - истина"
   ]
  },
  {
   "cell_type": "markdown",
   "metadata": {},
   "source": [
    "$$\\forall n \\in \\mathbb{N} > 2: \\exists x,y,z \\in \\mathbb{N}: x^{n} = y^{n} + z^{n}$$\n",
    " - Для всех натуральных чисел $n$ больше двух, существуют натуральные числа $x$,$y$ и $z$, такие что $x^{n} = y^{n} + z^{n}$ - ложь\n",
    " \n",
    "$$\\exists n \\in \\mathbb{N} > 2: \\forall x,y,z \\in \\mathbb{N}: x^{n} \\not = y^{n} + z^{n}$$\n",
    " - Существует натуральное число $n$ больше двух, для которого все натуральные числа $x$, $y$ и $z$, такие что $x^{n} \\not = y^{n} + z^{n}$ - истина"
   ]
  },
  {
   "cell_type": "markdown",
   "metadata": {},
   "source": [
    "$$\\forall x \\in \\mathbb{R} \\exists X \\in \\mathbb{R}: X > x$$\n",
    " - Для всех вещественных чисел $x$ существует вещественное число X, такие что $X > x$ - истина\n",
    " \n",
    "$$\\exists x \\in \\mathbb{R} \\forall X \\in \\mathbb{R}: X \\leq x$$\n",
    " - Существует вещественное число $x$ для которого все вещественные числа $X$, такие что $X \\leq x$ - ложь"
   ]
  },
  {
   "cell_type": "markdown",
   "metadata": {},
   "source": [
    "$$\\forall x \\in \\mathbb{C} \\not \\exists y \\in \\mathbb{C}: x > y || x < y$$\n",
    " - Для всех комплексных чисел $x$ не существует комплексного числа $y$, такие что $x > y$ или $x < y$ - истина\n",
    "$$\\exists x \\in \\mathbb{C} \\forall y \\in \\mathbb{C}: x \\leq y \\& x \\geq y$$\n",
    " - Существует комплексное число $x$, для которого любое комплексное число $y$ , такое что $x \\leq y$ и $x \\geq y$ - ложь"
   ]
  },
  {
   "cell_type": "markdown",
   "metadata": {},
   "source": [
    "$$\\forall y \\in [0; \\frac{\\pi}{2}] \\exists \\varepsilon > 0: sin y < sin(y + \\varepsilon)$$\n",
    " - Для любого числа $y$ из интервала от $0$ включительно до $\\frac{\\pi}{2}$ включительно существует положительное $\\varepsilon$, такое что $sin y < sin(y + \\varepsilon)$ - ложь\n",
    "$$\\exists y \\in [0; \\frac{\\pi}{2}] \\forall \\varepsilon \\leq 0: sin y \\geq sin(y + \\varepsilon)$$\n",
    " - Существует число $y$ из интервала от $0$ включительно до $\\frac{\\pi}{2}$ включительно для которого любое число $\\varepsilon \\leq$ 0, такое что $sin y \\geq sin(y + \\varepsilon)$ - истина"
   ]
  },
  {
   "cell_type": "markdown",
   "metadata": {},
   "source": [
    "$$\\forall y \\in [0; \\pi) \\exists \\varepsilon > 0: cos y < cos(y + \\varepsilon)$$\n",
    " - Для любого числа $y$ из интервала от $0$ включительно до $\\pi$ исключительно существует положительное $\\varepsilon$, такое что $cos y < cos(y + \\varepsilon)$ - истина\n",
    "\n",
    "$$\\exists y \\in [0; \\pi) \\forall \\varepsilon \\leq 0: cos y \\geq cos(y + \\varepsilon)$$\n",
    " - Существует число $y$ из интервала от $0$ включительно до $\\pi$ исключительно для которого любое число $\\varepsilon \\leq 0$ , такое что $cos y \\leq cos(y + \\varepsilon)$ - истина"
   ]
  },
  {
   "cell_type": "markdown",
   "metadata": {},
   "source": [
    "$$\\exists x : x \\not \\in \\left \\{ \\mathbb{N},\\mathbb{Z},\\mathbb{Q},\\mathbb{R},\\mathbb{C} \\right \\}$$\n",
    " - Существует число $x$, такое что не входит в множество натуральных, целых, рациональных, вещественных и комплексных чисел - ложь\n",
    "$$\\forall x : x \\in \\left \\{ \\mathbb{N} || \\mathbb{Z} || \\mathbb{Q} || \\mathbb{R} || \\mathbb{C} \\right \\}$$\n",
    " - Любое число $x$ входит в множество натуральных или целых или рациональных или вещественных или комплексных чисел - истина"
   ]
  },
  {
   "cell_type": "markdown",
   "metadata": {},
   "source": [
    "# Тема “Множество”"
   ]
  },
  {
   "cell_type": "markdown",
   "metadata": {},
   "source": [
    "#### 1. Даны три множества a,b и с. Необходимо выполнить все изученные виды бинарных операций над всеми комбинациями множеств."
   ]
  },
  {
   "cell_type": "markdown",
   "metadata": {},
   "source": [
    "$a \\cup b, b \\cup c, a \\cup c$ - объединение\n",
    "\n",
    "$a \\cap b, b \\cap c, a \\cap c$ - пересечение\n",
    "\n",
    "$a \\setminus b, b \\setminus a, b \\setminus c, c \\setminus b, a \\setminus c, c \\setminus a$ - разность\n",
    "\n",
    "$a \\triangle b, b \\triangle c, a \\triangle c$ - симметричная разность\n",
    "\n",
    "$a \\times b, b \\times a, b \\times c, c \\times b, a \\times c, c \\times a$ - декартово произведение "
   ]
  },
  {
   "cell_type": "markdown",
   "metadata": {},
   "source": [
    "#### 2. *Выполнить задание 1 на языке Python"
   ]
  },
  {
   "cell_type": "code",
   "execution_count": 8,
   "metadata": {},
   "outputs": [],
   "source": [
    "a = {0, 2, 4, 5, 14, 7, 8, 9}\n",
    "b = {0, 1, 2, 3, 5, 19, 6, 9}\n",
    "c = {0, 2, 11, 4, 6, 7, 8, 9}"
   ]
  },
  {
   "cell_type": "code",
   "execution_count": 9,
   "metadata": {},
   "outputs": [
    {
     "data": {
      "text/plain": [
       "(8, 8, 8)"
      ]
     },
     "execution_count": 9,
     "metadata": {},
     "output_type": "execute_result"
    }
   ],
   "source": [
    "len(a), len(b), len(c)"
   ]
  },
  {
   "cell_type": "markdown",
   "metadata": {},
   "source": [
    "объединение"
   ]
  },
  {
   "cell_type": "code",
   "execution_count": 10,
   "metadata": {},
   "outputs": [
    {
     "data": {
      "text/plain": [
       "{0, 1, 2, 3, 4, 5, 6, 7, 8, 9, 14, 19}"
      ]
     },
     "execution_count": 10,
     "metadata": {},
     "output_type": "execute_result"
    }
   ],
   "source": [
    "a | b"
   ]
  },
  {
   "cell_type": "code",
   "execution_count": 11,
   "metadata": {},
   "outputs": [
    {
     "data": {
      "text/plain": [
       "{0, 1, 2, 3, 4, 5, 6, 7, 8, 9, 11, 19}"
      ]
     },
     "execution_count": 11,
     "metadata": {},
     "output_type": "execute_result"
    }
   ],
   "source": [
    "b | c"
   ]
  },
  {
   "cell_type": "code",
   "execution_count": 12,
   "metadata": {},
   "outputs": [
    {
     "data": {
      "text/plain": [
       "{0, 2, 4, 5, 6, 7, 8, 9, 11, 14}"
      ]
     },
     "execution_count": 12,
     "metadata": {},
     "output_type": "execute_result"
    }
   ],
   "source": [
    "a | c"
   ]
  },
  {
   "cell_type": "markdown",
   "metadata": {},
   "source": [
    "пересечение"
   ]
  },
  {
   "cell_type": "code",
   "execution_count": 13,
   "metadata": {},
   "outputs": [
    {
     "data": {
      "text/plain": [
       "{0, 2, 5, 9}"
      ]
     },
     "execution_count": 13,
     "metadata": {},
     "output_type": "execute_result"
    }
   ],
   "source": [
    "a & b"
   ]
  },
  {
   "cell_type": "code",
   "execution_count": 14,
   "metadata": {},
   "outputs": [
    {
     "data": {
      "text/plain": [
       "{0, 2, 6, 9}"
      ]
     },
     "execution_count": 14,
     "metadata": {},
     "output_type": "execute_result"
    }
   ],
   "source": [
    "b & c"
   ]
  },
  {
   "cell_type": "code",
   "execution_count": 15,
   "metadata": {},
   "outputs": [
    {
     "data": {
      "text/plain": [
       "{0, 2, 4, 7, 8, 9}"
      ]
     },
     "execution_count": 15,
     "metadata": {},
     "output_type": "execute_result"
    }
   ],
   "source": [
    "a & c"
   ]
  },
  {
   "cell_type": "markdown",
   "metadata": {},
   "source": [
    "разность"
   ]
  },
  {
   "cell_type": "code",
   "execution_count": 16,
   "metadata": {},
   "outputs": [
    {
     "data": {
      "text/plain": [
       "{4, 7, 8, 14}"
      ]
     },
     "execution_count": 16,
     "metadata": {},
     "output_type": "execute_result"
    }
   ],
   "source": [
    "a - b"
   ]
  },
  {
   "cell_type": "code",
   "execution_count": 17,
   "metadata": {},
   "outputs": [
    {
     "data": {
      "text/plain": [
       "{1, 3, 6, 19}"
      ]
     },
     "execution_count": 17,
     "metadata": {},
     "output_type": "execute_result"
    }
   ],
   "source": [
    "b - a"
   ]
  },
  {
   "cell_type": "code",
   "execution_count": 18,
   "metadata": {},
   "outputs": [
    {
     "data": {
      "text/plain": [
       "{1, 3, 5, 19}"
      ]
     },
     "execution_count": 18,
     "metadata": {},
     "output_type": "execute_result"
    }
   ],
   "source": [
    "b - c"
   ]
  },
  {
   "cell_type": "code",
   "execution_count": 19,
   "metadata": {},
   "outputs": [
    {
     "data": {
      "text/plain": [
       "{4, 7, 8, 11}"
      ]
     },
     "execution_count": 19,
     "metadata": {},
     "output_type": "execute_result"
    }
   ],
   "source": [
    "c - b"
   ]
  },
  {
   "cell_type": "code",
   "execution_count": 20,
   "metadata": {},
   "outputs": [
    {
     "data": {
      "text/plain": [
       "{5, 14}"
      ]
     },
     "execution_count": 20,
     "metadata": {},
     "output_type": "execute_result"
    }
   ],
   "source": [
    "a - c"
   ]
  },
  {
   "cell_type": "code",
   "execution_count": 21,
   "metadata": {},
   "outputs": [
    {
     "data": {
      "text/plain": [
       "{6, 11}"
      ]
     },
     "execution_count": 21,
     "metadata": {},
     "output_type": "execute_result"
    }
   ],
   "source": [
    "c - a"
   ]
  },
  {
   "cell_type": "markdown",
   "metadata": {},
   "source": [
    "симметричная разность"
   ]
  },
  {
   "cell_type": "code",
   "execution_count": 22,
   "metadata": {},
   "outputs": [
    {
     "data": {
      "text/plain": [
       "{1, 3, 4, 6, 7, 8, 14, 19}"
      ]
     },
     "execution_count": 22,
     "metadata": {},
     "output_type": "execute_result"
    }
   ],
   "source": [
    "a ^ b"
   ]
  },
  {
   "cell_type": "code",
   "execution_count": 23,
   "metadata": {},
   "outputs": [
    {
     "data": {
      "text/plain": [
       "{1, 3, 4, 5, 7, 8, 11, 19}"
      ]
     },
     "execution_count": 23,
     "metadata": {},
     "output_type": "execute_result"
    }
   ],
   "source": [
    "b ^ c"
   ]
  },
  {
   "cell_type": "code",
   "execution_count": 24,
   "metadata": {},
   "outputs": [
    {
     "data": {
      "text/plain": [
       "{5, 6, 11, 14}"
      ]
     },
     "execution_count": 24,
     "metadata": {},
     "output_type": "execute_result"
    }
   ],
   "source": [
    "a ^ c"
   ]
  },
  {
   "cell_type": "markdown",
   "metadata": {},
   "source": [
    "декартово произведение"
   ]
  },
  {
   "cell_type": "code",
   "execution_count": 105,
   "metadata": {},
   "outputs": [],
   "source": [
    "def prod(*args):\n",
    "    pools = [tuple(pool) for pool in args]\n",
    "    result = [[]]\n",
    "    for pool in pools:\n",
    "        result = [x+[y] for x in result for y in pool]\n",
    "    s = ', '.join([f'{{{i[0]}, {i[1]}}}' for i in result])\n",
    "    print(f'{{{s}}}')"
   ]
  },
  {
   "cell_type": "code",
   "execution_count": 106,
   "metadata": {},
   "outputs": [
    {
     "name": "stdout",
     "output_type": "stream",
     "text": [
      "{{0, 0}, {0, 1}, {0, 2}, {0, 3}, {0, 5}, {0, 6}, {0, 9}, {0, 19}, {2, 0}, {2, 1}, {2, 2}, {2, 3}, {2, 5}, {2, 6}, {2, 9}, {2, 19}, {4, 0}, {4, 1}, {4, 2}, {4, 3}, {4, 5}, {4, 6}, {4, 9}, {4, 19}, {5, 0}, {5, 1}, {5, 2}, {5, 3}, {5, 5}, {5, 6}, {5, 9}, {5, 19}, {7, 0}, {7, 1}, {7, 2}, {7, 3}, {7, 5}, {7, 6}, {7, 9}, {7, 19}, {8, 0}, {8, 1}, {8, 2}, {8, 3}, {8, 5}, {8, 6}, {8, 9}, {8, 19}, {9, 0}, {9, 1}, {9, 2}, {9, 3}, {9, 5}, {9, 6}, {9, 9}, {9, 19}, {14, 0}, {14, 1}, {14, 2}, {14, 3}, {14, 5}, {14, 6}, {14, 9}, {14, 19}}\n"
     ]
    }
   ],
   "source": [
    "prod(a, b)"
   ]
  },
  {
   "cell_type": "code",
   "execution_count": 107,
   "metadata": {},
   "outputs": [
    {
     "name": "stdout",
     "output_type": "stream",
     "text": [
      "{{0, 0}, {0, 2}, {0, 4}, {0, 5}, {0, 7}, {0, 8}, {0, 9}, {0, 14}, {1, 0}, {1, 2}, {1, 4}, {1, 5}, {1, 7}, {1, 8}, {1, 9}, {1, 14}, {2, 0}, {2, 2}, {2, 4}, {2, 5}, {2, 7}, {2, 8}, {2, 9}, {2, 14}, {3, 0}, {3, 2}, {3, 4}, {3, 5}, {3, 7}, {3, 8}, {3, 9}, {3, 14}, {5, 0}, {5, 2}, {5, 4}, {5, 5}, {5, 7}, {5, 8}, {5, 9}, {5, 14}, {6, 0}, {6, 2}, {6, 4}, {6, 5}, {6, 7}, {6, 8}, {6, 9}, {6, 14}, {9, 0}, {9, 2}, {9, 4}, {9, 5}, {9, 7}, {9, 8}, {9, 9}, {9, 14}, {19, 0}, {19, 2}, {19, 4}, {19, 5}, {19, 7}, {19, 8}, {19, 9}, {19, 14}}\n"
     ]
    }
   ],
   "source": [
    "prod(b, a)"
   ]
  },
  {
   "cell_type": "markdown",
   "metadata": {},
   "source": [
    "# Тема 3 “Последовательность”"
   ]
  },
  {
   "cell_type": "markdown",
   "metadata": {},
   "source": [
    "#### 1) Даны 4 последовательности. Необходимо:\n",
    " - a) исследовать их на монотонность; \n",
    " - b) исследовать на ограниченность;\n",
    " - c) найти пятый по счету член."
   ]
  },
  {
   "cell_type": "markdown",
   "metadata": {},
   "source": [
    "$\\left \\{ a_{n} \\right \\}_{n=1}^{\\infty} = 2^{n} - n$"
   ]
  },
  {
   "cell_type": "markdown",
   "metadata": {},
   "source": [
    "$a_{1}=2^{1}-1 = 1$\n",
    "\n",
    "$a_{2}=2^{2}-2 = 2$\n",
    "\n",
    "$a_{3}=2^{3}-3 = 5$\n",
    "\n",
    "$a_{4}=2^{4}-4 = 12$\n",
    "\n",
    "$a_{5}=2^{5}-5 = 27$\n",
    "> >\n",
    "> > - a) последовательность возрастающая\n",
    "> > - b) ограничена снизу\n",
    "> > - c) пятый по счету член = 27"
   ]
  },
  {
   "cell_type": "markdown",
   "metadata": {},
   "source": [
    "$\\left \\{ b_{n} \\right \\}_{n=2}^{\\infty} = \\frac{1}{1-n}$"
   ]
  },
  {
   "cell_type": "markdown",
   "metadata": {},
   "source": [
    "$b_{2}=\\frac{1}{1-2} = -1$\n",
    "\n",
    "$b_{3}=\\frac{1}{1-3} = -\\frac{1}{2}$\n",
    "\n",
    "$b_{4}=\\frac{1}{1-4} = -\\frac{1}{3}$\n",
    "\n",
    "$b_{5}=\\frac{1}{1-5} = -\\frac{1}{4}$\n",
    "\n",
    "$b_{6}=\\frac{1}{1-6} = -\\frac{1}{5}$\n",
    "> >\n",
    "> > - a) последовательность возрастающая\n",
    "> > - b) ограничена (снизу и сверху)\n",
    "> > - c) пятый по счету член = $-\\frac{1}{5}$"
   ]
  },
  {
   "cell_type": "markdown",
   "metadata": {},
   "source": [
    "$\\left \\{ c_{n} \\right \\}_{n=1}^{\\infty} = -1^{n} + \\sqrt{2n}$"
   ]
  },
  {
   "cell_type": "markdown",
   "metadata": {},
   "source": [
    "$c_{1}= -1^{1} + \\sqrt{2\\cdot1} = -1 + \\sqrt{2} \\approx 0.41$\n",
    "\n",
    "$c_{2}= -1^{2} + \\sqrt{2\\cdot2} = -1 + \\sqrt{4} = 1$\n",
    "\n",
    "$c_{3}= -1^{3} + \\sqrt{2\\cdot3} = -1 + \\sqrt{6} \\approx 1.45$\n",
    "\n",
    "$c_{4}= -1^{4} + \\sqrt{2\\cdot4} = -1 + \\sqrt{8} \\approx 1.83$\n",
    "\n",
    "$c_{5}= -1^{5} + \\sqrt{2\\cdot5} = -1 + \\sqrt{10} \\approx 2.16$\n",
    "> >\n",
    "> > - a) последовательность возрастающая\n",
    "> > - b) ограничена снизу\n",
    "> > - c) пятый по счету член $\\approx 2.16$"
   ]
  },
  {
   "cell_type": "code",
   "execution_count": null,
   "metadata": {},
   "outputs": [],
   "source": []
  },
  {
   "cell_type": "markdown",
   "metadata": {},
   "source": [
    "$\\left \\{ d_{n} \\right \\}_{n=1}^{\\infty} = (-1)^{2n} + \\frac{1}{n^{2}}$"
   ]
  },
  {
   "cell_type": "markdown",
   "metadata": {},
   "source": [
    "$d_{1}= (-1)^{2\\cdot1} + \\frac{1}{1^{2}} = 1 + 1 = 2$\n",
    "\n",
    "$d_{2}= (-1)^{2\\cdot2} + \\frac{1}{2^{2}} = 1 + \\frac{1}{4} = \\frac{5}{4} = 1.25$\n",
    "\n",
    "$d_{3}= (-1)^{2\\cdot3} + \\frac{1}{3^{2}} = 1 + \\frac{1}{9} = \\frac{10}{9} \\approx 1.11$\n",
    "\n",
    "$d_{4}= (-1)^{2\\cdot4} + \\frac{1}{4^{2}} = 1 + \\frac{1}{16} = \\frac{17}{16} \\approx 1.06$\n",
    "\n",
    "$d_{5}= (-1)^{2\\cdot5} + \\frac{1}{5^{2}} = 1 + \\frac{1}{25} = \\frac{26}{25} = 1.04$\n",
    "> >\n",
    "> > - a) последовательность убывающая\n",
    "> > - b) ограничена (сверху и снизу)\n",
    "> > - c) пятый по счету член $=1.04$"
   ]
  },
  {
   "cell_type": "markdown",
   "metadata": {},
   "source": [
    "#### 2) Найти 12-й член заданной неявно последовательности $a_{1}=128, a_{n+1}-a_{n}=6$"
   ]
  },
  {
   "cell_type": "markdown",
   "metadata": {},
   "source": [
    "Из условия видно, что каждый последующий элемент последовательности ($a_{n+1}$) на шесть больше предыдущего ($a_{n}$). Видна линейная зависимость. Общий член последовательность будет выражен следующим образом:\n",
    "$$\\left \\{ a_{n} \\right \\}_{n=1}^{\\infty} = 122 + 6n$$\n",
    "\n",
    "Найдем 12-й элемент:\n",
    "\n",
    "$$a_{12} = 122 + 6\\cdot12 = 122 + 72 = 194$$"
   ]
  },
  {
   "cell_type": "code",
   "execution_count": null,
   "metadata": {},
   "outputs": [],
   "source": []
  }
 ],
 "metadata": {
  "kernelspec": {
   "display_name": "Python 3",
   "language": "python",
   "name": "python3"
  },
  "language_info": {
   "codemirror_mode": {
    "name": "ipython",
    "version": 3
   },
   "file_extension": ".py",
   "mimetype": "text/x-python",
   "name": "python",
   "nbconvert_exporter": "python",
   "pygments_lexer": "ipython3",
   "version": "3.7.3"
  }
 },
 "nbformat": 4,
 "nbformat_minor": 2
}
